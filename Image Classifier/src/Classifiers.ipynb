{
 "cells": [
  {
   "cell_type": "code",
   "execution_count": 1,
   "metadata": {},
   "outputs": [
    {
     "name": "stdout",
     "output_type": "stream",
     "text": [
      "TensorFlow version:  2.1.0\n"
     ]
    }
   ],
   "source": [
    "import tensorflow as tf\n",
    "\n",
    "from tensorflow.keras.layers import Dense, Flatten, Conv2D, Dropout\n",
    "from tensorflow.keras.models import Sequential\n",
    "from tensorflow.keras import Model\n",
    "from tensorflow import keras\n",
    "\n",
    "import seaborn as sns\n",
    "import matplotlib as mp\n",
    "%matplotlib inline\n",
    "import math\n",
    "import numpy as np\n",
    "from datetime import datetime\n",
    "import io\n",
    "import itertools\n",
    "from packaging import version\n",
    "from six.moves import range\n",
    "\n",
    "\n",
    "import matplotlib.pyplot as plt\n",
    "import sklearn.metrics\n",
    "\n",
    "print(\"TensorFlow version: \", tf.__version__)\n",
    "assert version.parse(tf.__version__).release[0] >= 2, \\\n",
    "    \"This notebook requires TensorFlow 2.0 or above.\"\n",
    "\n",
    "\n",
    "\"\"\"this is important because i realized the model might not reset\"\"\"\n",
    "tf.keras.backend.clear_session()\n",
    "\n",
    "plt.style.use('seaborn')\n",
    "plt.rcParams['figure.figsize'] = (14.0, 5.0)"
   ]
  },
  {
   "cell_type": "markdown",
   "metadata": {},
   "source": [
    "# Table of contents\n",
    "1. [Baseline Model](#model1)\n",
    "2. [Adding Layers](#model2)\n",
    "3. [Adding Convolutions](#model3)\n",
    "3. [Model Comparison](#compare)"
   ]
  },
  {
   "cell_type": "markdown",
   "metadata": {},
   "source": [
    "Random seed for reproduction of results"
   ]
  },
  {
   "cell_type": "code",
   "execution_count": 2,
   "metadata": {},
   "outputs": [],
   "source": [
    "np.random.seed(7)"
   ]
  },
  {
   "cell_type": "markdown",
   "metadata": {},
   "source": [
    "Load and prep of dataset"
   ]
  },
  {
   "cell_type": "code",
   "execution_count": 3,
   "metadata": {},
   "outputs": [],
   "source": [
    "mnist = tf.keras.datasets.mnist\n",
    "(x_train, y_train), (x_test, y_test) = mnist.load_data()\n",
    "x_train, x_test = x_train / 255.0, x_test / 255.0\n",
    "\n",
    "x2_train = x_train[..., tf.newaxis]\n",
    "x2_test = x_test[..., tf.newaxis]"
   ]
  },
  {
   "cell_type": "markdown",
   "metadata": {},
   "source": [
    "Batch and shuffle"
   ]
  },
  {
   "cell_type": "code",
   "execution_count": 4,
   "metadata": {},
   "outputs": [],
   "source": [
    "train_ds = tf.data.Dataset.from_tensor_slices((x2_train, y_train)).shuffle(10000).batch(32)\n",
    "test_ds = tf.data.Dataset.from_tensor_slices((x2_test, y_test)).batch(32)\n",
    "\n",
    "class_names = ['0', '1', '2', '3', '4', \n",
    "    '5', '6', '7', '8', '9']"
   ]
  },
  {
   "cell_type": "code",
   "execution_count": 5,
   "metadata": {},
   "outputs": [],
   "source": [
    "img = np.reshape(x_train[0], (-1, 28, 28, 1))"
   ]
  },
  {
   "cell_type": "markdown",
   "metadata": {},
   "source": [
    "add training example to TensorBoard"
   ]
  },
  {
   "cell_type": "code",
   "execution_count": 6,
   "metadata": {},
   "outputs": [],
   "source": [
    "!rm -rf logs\n",
    "\n",
    "# Creates a file writer for the log directory. I made it so that different categories contain different stuf\n",
    "logdir = \"logs/sample_data/\"\n",
    "file_writer = tf.summary.create_file_writer(logdir)\n",
    "\n",
    "with file_writer.as_default():\n",
    "    images = np.reshape(x_train[0:25], (-1, 28, 28, 1))\n",
    "    tf.summary.image(\"25 training data examples\", images, max_outputs=25, step=0)"
   ]
  },
  {
   "cell_type": "markdown",
   "metadata": {},
   "source": [
    "Visualization of input images inline + TensorBoard"
   ]
  },
  {
   "cell_type": "code",
   "execution_count": 7,
   "metadata": {},
   "outputs": [
    {
     "data": {
      "image/png": "[encoded data removed]",
      "text/plain": [
       "<Figure size 720x720 with 25 Axes>"
      ]
     },
     "metadata": {},
     "output_type": "display_data"
    },
    {
     "data": {
      "text/plain": [
       "<Figure size 1008x360 with 0 Axes>"
      ]
     },
     "metadata": {},
     "output_type": "display_data"
    }
   ],
   "source": [
    "def plot_to_image(figure):\n",
    "    buf = io.BytesIO()\n",
    "    plt.savefig(buf, format='png')\n",
    "    plt.close(figure)\n",
    "    buf.seek(0)\n",
    "    # Convert PNG buffer to TF image\n",
    "    image = tf.image.decode_png(buf.getvalue(), channels=4)\n",
    "    # Add the batch dimension\n",
    "    image = tf.expand_dims(image, 0)\n",
    "    return image\n",
    "\n",
    "def image_grid():\n",
    "    figure = plt.figure(figsize=(10,10))\n",
    "    for i in range(25):\n",
    "    # Start next subplot.\n",
    "        plt.subplot(5, 5, i + 1, title=class_names[y_train[i]])\n",
    "        plt.xticks([])\n",
    "        plt.yticks([])\n",
    "        plt.grid(False)\n",
    "        plt.imshow(x_train[i], cmap=plt.cm.binary)\n",
    "    plt.show()\n",
    "    return figure\n",
    "\n",
    "figure = image_grid()\n",
    "with file_writer.as_default():\n",
    "    tf.summary.image(\"Training data\", plot_to_image(figure), step=0)"
   ]
  },
  {
   "cell_type": "markdown",
   "metadata": {},
   "source": [
    "# Baseline Model <a name=\"introduction\"></a>\n",
    "* Flattening Layer\n",
    "* Dense Layer 1   w/ RELU activation\n",
    "* Dropout Layer 1 w/ 30% dropout rate\n",
    "* Dense Layer 2   w/ RELU activation"
   ]
  },
  {
   "cell_type": "markdown",
   "metadata": {},
   "source": [
    "Using model subclassing to build model"
   ]
  },
  {
   "cell_type": "code",
   "execution_count": 8,
   "metadata": {},
   "outputs": [],
   "source": [
    "class ModelBaseline(Model):\n",
    "    def __init__(self):\n",
    "        super(ModelBaseline, self).__init__()\n",
    "        self.flat = Flatten()\n",
    "        self.d1 = Dense(45, activation='relu')\n",
    "        self.drop = Dropout(0.3)\n",
    "        self.d2 = Dense(35, activation='relu')\n",
    "    def call(self, x):\n",
    "        x = self.flat(x)\n",
    "        x = self.d1(x)\n",
    "        x = self.drop(x)\n",
    "        return self.d2(x)\n",
    "\n",
    "model=ModelBaseline()"
   ]
  },
  {
   "cell_type": "markdown",
   "metadata": {},
   "source": [
    "Loss function and Optimizer selection"
   ]
  },
  {
   "cell_type": "code",
   "execution_count": 9,
   "metadata": {},
   "outputs": [],
   "source": [
    "# It uses crossentropy between the labels and predictions to compute loss.\n",
    "loss_object = tf.keras.losses.SparseCategoricalCrossentropy(from_logits=True)\n",
    "optimizer = tf.keras.optimizers.Adam()"
   ]
  },
  {
   "cell_type": "markdown",
   "metadata": {},
   "source": [
    "Error metric selection"
   ]
  },
  {
   "cell_type": "code",
   "execution_count": 10,
   "metadata": {},
   "outputs": [],
   "source": [
    "train_loss = tf.keras.metrics.Mean(name='train_loss')\n",
    "train_acc = tf.keras.metrics.SparseCategoricalAccuracy(name='train_accuracy')\n",
    "\n",
    "test_loss = tf.keras.metrics.Mean(name='test_loss')\n",
    "test_acc = tf.keras.metrics.SparseCategoricalAccuracy(name='test_accuracy')"
   ]
  },
  {
   "cell_type": "markdown",
   "metadata": {},
   "source": [
    "Model training using gradient tape"
   ]
  },
  {
   "cell_type": "code",
   "execution_count": 11,
   "metadata": {},
   "outputs": [],
   "source": [
    "@tf.function\n",
    "def train_step(images, labels):\n",
    "    with tf.GradientTape() as tape:\n",
    "        predictions = model(images, training=True)\n",
    "        loss = loss_object(labels, predictions)\n",
    "    gradients = tape.gradient(loss, model.trainable_variables)\n",
    "    optimizer.apply_gradients(zip(gradients, model.trainable_variables))\n",
    "\n",
    "    train_loss(loss)\n",
    "    train_acc(labels, predictions)"
   ]
  },
  {
   "cell_type": "markdown",
   "metadata": {},
   "source": [
    "Test function"
   ]
  },
  {
   "cell_type": "code",
   "execution_count": 12,
   "metadata": {},
   "outputs": [],
   "source": [
    "@tf.function\n",
    "def test_step(images, labels):\n",
    "    predictions = model(images, training=False)\n",
    "    t_loss = loss_object(labels, predictions)\n",
    "\n",
    "    test_loss(t_loss)\n",
    "    test_acc(labels, predictions)"
   ]
  },
  {
   "cell_type": "markdown",
   "metadata": {},
   "source": [
    "Add test and train plots to TensorBoard"
   ]
  },
  {
   "cell_type": "code",
   "execution_count": 13,
   "metadata": {},
   "outputs": [],
   "source": [
    "!rm -rf logs/gradient_tape\n",
    "\n",
    "train_log_dir = 'logs/gradient_tape/basline_model/train'\n",
    "test_log_dir = 'logs/gradient_tape/baseline_model/test'\n",
    "train_summary_writer = tf.summary.create_file_writer(train_log_dir)\n",
    "test_summary_writer = tf.summary.create_file_writer(test_log_dir)"
   ]
  },
  {
   "cell_type": "code",
   "execution_count": 14,
   "metadata": {},
   "outputs": [],
   "source": [
    "EPOCHS = 10"
   ]
  },
  {
   "cell_type": "code",
   "execution_count": 15,
   "metadata": {},
   "outputs": [
    {
     "name": "stdout",
     "output_type": "stream",
     "text": [
      "WARNING:tensorflow:Layer model_baseline is casting an input tensor from dtype float64 to the layer's dtype of float32, which is new behavior in TensorFlow 2.  The layer has dtype float32 because it's dtype defaults to floatx.\n",
      "\n",
      "If you intended to run this layer in float32, you can safely ignore this warning. If in doubt, this warning is likely only an issue if you are porting a TensorFlow 1.X model to TensorFlow 2.\n",
      "\n",
      "To change all layers to have dtype float64 by default, call `tf.keras.backend.set_floatx('float64')`. To change just this layer, pass dtype='float64' to the layer constructor. If you are the author of this layer, you can disable autocasting by passing autocast=False to the base Layer constructor.\n",
      "\n",
      "Epoch 1, Loss: 0.5577943921089172, Accuracy: 84.4866714477539, Test Loss: 0.22652089595794678, Test Accuracy: 93.37000274658203\n",
      "Epoch 2, Loss: 0.2907174229621887, Accuracy: 91.55667114257812, Test Loss: 0.17418643832206726, Test Accuracy: 94.09500122070312\n",
      "Epoch 3, Loss: 0.2503025531768799, Accuracy: 92.59832763671875, Test Loss: 0.1487274169921875, Test Accuracy: 94.58333587646484\n",
      "Epoch 4, Loss: 0.22405830025672913, Accuracy: 93.44833374023438, Test Loss: 0.14515461027622223, Test Accuracy: 94.8800048828125\n",
      "Epoch 5, Loss: 0.2082519680261612, Accuracy: 93.74832916259766, Test Loss: 0.13151103258132935, Test Accuracy: 95.13800048828125\n",
      "Epoch 6, Loss: 0.19690388441085815, Accuracy: 94.04499816894531, Test Loss: 0.12792089581489563, Test Accuracy: 95.33666229248047\n",
      "Epoch 7, Loss: 0.18824461102485657, Accuracy: 94.23833465576172, Test Loss: 0.12495194375514984, Test Accuracy: 95.48714447021484\n",
      "Epoch 8, Loss: 0.18019519746303558, Accuracy: 94.47167205810547, Test Loss: 0.1238378956913948, Test Accuracy: 95.5987548828125\n",
      "Epoch 9, Loss: 0.17716747522354126, Accuracy: 94.54499816894531, Test Loss: 0.12120608240365982, Test Accuracy: 95.70222473144531\n",
      "Epoch 10, Loss: 0.17165790498256683, Accuracy: 94.80166625976562, Test Loss: 0.11208688467741013, Test Accuracy: 95.79700469970703\n"
     ]
    }
   ],
   "source": [
    "train_loss_results_baseline = []\n",
    "train_accuracy_results_baseline = []\n",
    "test_loss_results_baseline = []\n",
    "test_accuracy_results_baseline = []\n",
    "\n",
    "for epoch in range(EPOCHS):\n",
    "  # Reset the metrics at the start of the next epoch\n",
    "    train_loss.reset_states()\n",
    "    train_acc.reset_states()\n",
    "    test_loss.reset_states()\n",
    "    train_acc.reset_states()\n",
    "\n",
    "    for images, labels in train_ds:\n",
    "        train_step(images, labels)\n",
    "    with train_summary_writer.as_default():\n",
    "        tf.summary.scalar('loss', train_loss.result(), step=epoch)\n",
    "        tf.summary.scalar('accuracy', train_acc.result(), step=epoch)\n",
    "\n",
    "    for test_images, test_labels in test_ds:\n",
    "        test_step(test_images, test_labels)\n",
    "    with test_summary_writer.as_default():\n",
    "        tf.summary.scalar('loss', test_loss.result(), step=epoch)\n",
    "        tf.summary.scalar('accuracy', test_acc.result(), step=epoch)\n",
    "\n",
    "    template = 'Epoch {}, Loss: {}, Accuracy: {}, Test Loss: {}, Test Accuracy: {}'\n",
    "    print(template.format(epoch + 1,\n",
    "                        train_loss.result(),\n",
    "                        train_acc.result() * 100,\n",
    "                        test_loss.result(),\n",
    "                        test_acc.result() * 100))\n",
    "    train_loss_results_baseline.append(train_loss.result())\n",
    "    train_accuracy_results_baseline.append(train_acc.result() * 100)\n",
    "    test_loss_results_baseline.append(test_loss.result())\n",
    "    test_accuracy_results_baseline.append(test_acc.result() * 100)"
   ]
  },
  {
   "cell_type": "code",
   "execution_count": 16,
   "metadata": {},
   "outputs": [
    {
     "data": {
      "image/png": "[encoded data removed]",
      "text/plain": [
       "<Figure size 1008x360 with 2 Axes>"
      ]
     },
     "metadata": {},
     "output_type": "display_data"
    }
   ],
   "source": [
    "fig, (ax1, ax2) = plt.subplots(1,2)\n",
    "ax1.plot([x for x in range(1,EPOCHS+1)], train_loss_results_baseline, label='Training loss', marker='^')\n",
    "ax1.plot([x for x in range(1,EPOCHS+1)], test_loss_results_baseline, label='Testing loss', marker='^')\n",
    "ax1.set_title(\"Loss Plot\")\n",
    "ax1.set_xlabel(\"Epoch\")\n",
    "ax1.set_ylabel(\"Loss\")\n",
    "ax2.plot([x for x in range(1,EPOCHS+1)], train_accuracy_results_baseline, label='Training accuracy', marker='o')\n",
    "ax2.plot([x for x in range(1,EPOCHS+1)], test_accuracy_results_baseline, label='Testing accuracy', marker='o')\n",
    "ax2.set_title(\"Accuracy Plot\")\n",
    "ax2.set_xlabel(\"Epoch\")\n",
    "ax2.set_ylabel(\"%\")\n",
    "ax1.legend()\n",
    "ax2.legend()\n",
    "fig.tight_layout()"
   ]
  },
  {
   "cell_type": "code",
   "execution_count": 17,
   "metadata": {
    "scrolled": true
   },
   "outputs": [
    {
     "name": "stdout",
     "output_type": "stream",
     "text": [
      "Model: \"model_baseline\"\n",
      "_________________________________________________________________\n",
      "Layer (type)                 Output Shape              Param #   \n",
      "=================================================================\n",
      "flatten (Flatten)            multiple                  0         \n",
      "_________________________________________________________________\n",
      "dense (Dense)                multiple                  35325     \n",
      "_________________________________________________________________\n",
      "dropout (Dropout)            multiple                  0         \n",
      "_________________________________________________________________\n",
      "dense_1 (Dense)              multiple                  1610      \n",
      "=================================================================\n",
      "Total params: 36,935\n",
      "Trainable params: 36,935\n",
      "Non-trainable params: 0\n",
      "_________________________________________________________________\n"
     ]
    }
   ],
   "source": [
    "model.summary()"
   ]
  },
  {
   "cell_type": "markdown",
   "metadata": {},
   "source": [
    "# Adding Layers <a name=\"model2\"></a>\n",
    "* Flattening Layer\n",
    "* Dense Layer 1   w/ RELU activation\n",
    "* Dropout Layer 1 w/ 30% dropout rate\n",
    "* Dense Layer 2   w/ RELU activation\n",
    "* Dense Layer 3   w/ RELU activation\n",
    "* Dense Layer 4   w/ Softmax activation"
   ]
  },
  {
   "cell_type": "code",
   "execution_count": 18,
   "metadata": {},
   "outputs": [],
   "source": [
    "class ModelDenser(Model):\n",
    "    def __init__(self):\n",
    "        super(ModelDenser, self).__init__()\n",
    "        self.flat = Flatten()\n",
    "        self.d1 = Dense(45, activation='relu')\n",
    "        self.drop = Dropout(0.3)\n",
    "        self.d2 = Dense(35, activation='relu')\n",
    "        self.d3 = Dense(23, activation='relu')\n",
    "        self.d4 = Dense(10, activation='softmax')\n",
    "    def call(self, x):\n",
    "        x = self.flat(x)\n",
    "        x = self.d1(x)\n",
    "        x = self.drop(x)\n",
    "        x = self.d2(x)\n",
    "        x = self.d3(x)\n",
    "        return self.d4(x)\n",
    "\n",
    "model=ModelDenser()"
   ]
  },
  {
   "cell_type": "code",
   "execution_count": 19,
   "metadata": {},
   "outputs": [],
   "source": [
    "loss_object = tf.keras.losses.SparseCategoricalCrossentropy(from_logits=True)\n",
    "optimizer = tf.keras.optimizers.Adam()"
   ]
  },
  {
   "cell_type": "code",
   "execution_count": 20,
   "metadata": {},
   "outputs": [],
   "source": [
    "train_loss = tf.keras.metrics.Mean(name='train_loss')\n",
    "train_acc = tf.keras.metrics.SparseCategoricalAccuracy(name='train_accuracy')\n",
    "\n",
    "test_loss = tf.keras.metrics.Mean(name='test_loss')\n",
    "test_acc = tf.keras.metrics.SparseCategoricalAccuracy(name='test_accuracy')"
   ]
  },
  {
   "cell_type": "code",
   "execution_count": 21,
   "metadata": {},
   "outputs": [],
   "source": [
    "@tf.function\n",
    "def train_step(images, labels):\n",
    "    with tf.GradientTape() as tape:\n",
    "        predictions = model(images, training=True)\n",
    "        loss = loss_object(labels, predictions)\n",
    "    gradients = tape.gradient(loss, model.trainable_variables)\n",
    "    optimizer.apply_gradients(zip(gradients, model.trainable_variables))\n",
    "\n",
    "    train_loss(loss)\n",
    "    train_acc(labels, predictions)"
   ]
  },
  {
   "cell_type": "code",
   "execution_count": 22,
   "metadata": {},
   "outputs": [],
   "source": [
    "@tf.function\n",
    "def test_step(images, labels):\n",
    "    predictions = model(images, training=False)\n",
    "    t_loss = loss_object(labels, predictions)\n",
    "\n",
    "    test_loss(t_loss)\n",
    "    test_acc(labels, predictions)"
   ]
  },
  {
   "cell_type": "code",
   "execution_count": 23,
   "metadata": {},
   "outputs": [],
   "source": [
    "train_log_dir = 'logs/gradient_tape/basline_dense/train'\n",
    "test_log_dir = 'logs/gradient_tape/baseline_dense/test'\n",
    "train_summary_writer = tf.summary.create_file_writer(train_log_dir)\n",
    "test_summary_writer = tf.summary.create_file_writer(test_log_dir)"
   ]
  },
  {
   "cell_type": "code",
   "execution_count": 24,
   "metadata": {},
   "outputs": [],
   "source": [
    "EPOCHS = 10"
   ]
  },
  {
   "cell_type": "code",
   "execution_count": 25,
   "metadata": {
    "pycharm": {
     "is_executing": true
    }
   },
   "outputs": [
    {
     "name": "stdout",
     "output_type": "stream",
     "text": [
      "WARNING:tensorflow:Layer model_denser is casting an input tensor from dtype float64 to the layer's dtype of float32, which is new behavior in TensorFlow 2.  The layer has dtype float32 because it's dtype defaults to floatx.\n",
      "\n",
      "If you intended to run this layer in float32, you can safely ignore this warning. If in doubt, this warning is likely only an issue if you are porting a TensorFlow 1.X model to TensorFlow 2.\n",
      "\n",
      "To change all layers to have dtype float64 by default, call `tf.keras.backend.set_floatx('float64')`. To change just this layer, pass dtype='float64' to the layer constructor. If you are the author of this layer, you can disable autocasting by passing autocast=False to the base Layer constructor.\n",
      "\n",
      "Epoch 1, Loss: 1.6825752258300781, Accuracy: 79.04666900634766, Test Loss: 1.557483434677124, Test Accuracy: 90.56999969482422\n",
      "Epoch 2, Loss: 1.5642634630203247, Accuracy: 90.08499908447266, Test Loss: 1.5297081470489502, Test Accuracy: 91.90999603271484\n",
      "Epoch 3, Loss: 1.548864483833313, Accuracy: 91.44667053222656, Test Loss: 1.5266764163970947, Test Accuracy: 92.44999694824219\n",
      "Epoch 4, Loss: 1.542968511581421, Accuracy: 91.93999481201172, Test Loss: 1.5183025598526, Test Accuracy: 92.89500427246094\n",
      "Epoch 5, Loss: 1.5390706062316895, Accuracy: 92.25833129882812, Test Loss: 1.5166473388671875, Test Accuracy: 93.20800018310547\n",
      "Epoch 6, Loss: 1.5344963073730469, Accuracy: 92.71666717529297, Test Loss: 1.5118117332458496, Test Accuracy: 93.48999786376953\n",
      "Epoch 7, Loss: 1.5329028367996216, Accuracy: 92.87166595458984, Test Loss: 1.5129743814468384, Test Accuracy: 93.66999816894531\n",
      "Epoch 8, Loss: 1.5301671028137207, Accuracy: 93.12000274658203, Test Loss: 1.5091755390167236, Test Accuracy: 93.86625671386719\n",
      "Epoch 9, Loss: 1.530405044555664, Accuracy: 93.0999984741211, Test Loss: 1.5051852464675903, Test Accuracy: 94.06221771240234\n",
      "Epoch 10, Loss: 1.528355598449707, Accuracy: 93.32666015625, Test Loss: 1.5109115839004517, Test Accuracy: 94.16099548339844\n"
     ]
    }
   ],
   "source": [
    "train_loss_results_denser = []\n",
    "train_accuracy_results_denser = []\n",
    "test_loss_results_denser = []\n",
    "test_accuracy_results_denser = []\n",
    "\n",
    "for epoch in range(EPOCHS):\n",
    "  # Reset the metrics at the start of the next epoch\n",
    "    train_loss.reset_states()\n",
    "    train_acc.reset_states()\n",
    "    test_loss.reset_states()\n",
    "    train_acc.reset_states()\n",
    "\n",
    "    for images, labels in train_ds:\n",
    "        train_step(images, labels)\n",
    "    with train_summary_writer.as_default():\n",
    "        tf.summary.scalar('loss', train_loss.result(), step=epoch)\n",
    "        tf.summary.scalar('accuracy', train_acc.result(), step=epoch)\n",
    "\n",
    "    for test_images, test_labels in test_ds:\n",
    "        test_step(test_images, test_labels)\n",
    "    with test_summary_writer.as_default():\n",
    "        tf.summary.scalar('loss', test_loss.result(), step=epoch)\n",
    "        tf.summary.scalar('accuracy', test_acc.result(), step=epoch)\n",
    "\n",
    "    template = 'Epoch {}, Loss: {}, Accuracy: {}, Test Loss: {}, Test Accuracy: {}'\n",
    "    print(template.format(epoch + 1,\n",
    "                        train_loss.result(),\n",
    "                        train_acc.result() * 100,\n",
    "                        test_loss.result(),\n",
    "                        test_acc.result() * 100))\n",
    "    train_loss_results_denser.append(train_loss.result())\n",
    "    train_accuracy_results_denser.append(train_acc.result() * 100)\n",
    "    test_loss_results_denser.append(test_loss.result())\n",
    "    test_accuracy_results_denser.append(test_acc.result() * 100)"
   ]
  },
  {
   "cell_type": "code",
   "execution_count": 26,
   "metadata": {
    "pycharm": {
     "is_executing": true
    }
   },
   "outputs": [
    {
     "data": {
      "image/png": "[encoded data removed]",
      "text/plain": [
       "<Figure size 1008x360 with 2 Axes>"
      ]
     },
     "metadata": {},
     "output_type": "display_data"
    }
   ],
   "source": [
    "fig, (ax1, ax2) = plt.subplots(1,2)\n",
    "ax1.plot([x for x in range(1,EPOCHS+1)], train_loss_results_denser, label='Training loss', marker='^')\n",
    "ax1.plot([x for x in range(1,EPOCHS+1)], test_loss_results_denser, label='Testing loss', marker='^')\n",
    "ax1.set_title(\"Loss Plot\")\n",
    "ax1.set_xlabel(\"Epoch\")\n",
    "ax1.set_ylabel(\"Loss\")\n",
    "ax2.plot([x for x in range(1,EPOCHS+1)], train_accuracy_results_denser, label='Training accuracy', marker='o')\n",
    "ax2.plot([x for x in range(1,EPOCHS+1)], test_accuracy_results_denser, label='Testing accuracy', marker='o')\n",
    "ax2.set_title(\"Accuracy Plot\")\n",
    "ax2.set_xlabel(\"Epoch\")\n",
    "ax2.set_ylabel(\"%\")\n",
    "ax1.legend()\n",
    "ax2.legend()\n",
    "fig.tight_layout()"
   ]
  },
  {
   "cell_type": "code",
   "execution_count": 27,
   "metadata": {
    "pycharm": {
     "is_executing": true
    },
    "scrolled": false
   },
   "outputs": [
    {
     "name": "stdout",
     "output_type": "stream",
     "text": [
      "Model: \"model_denser\"\n",
      "_________________________________________________________________\n",
      "Layer (type)                 Output Shape              Param #   \n",
      "=================================================================\n",
      "flatten_1 (Flatten)          multiple                  0         \n",
      "_________________________________________________________________\n",
      "dense_2 (Dense)              multiple                  35325     \n",
      "_________________________________________________________________\n",
      "dropout_1 (Dropout)          multiple                  0         \n",
      "_________________________________________________________________\n",
      "dense_3 (Dense)              multiple                  1610      \n",
      "_________________________________________________________________\n",
      "dense_4 (Dense)              multiple                  828       \n",
      "_________________________________________________________________\n",
      "dense_5 (Dense)              multiple                  240       \n",
      "=================================================================\n",
      "Total params: 38,003\n",
      "Trainable params: 38,003\n",
      "Non-trainable params: 0\n",
      "_________________________________________________________________\n"
     ]
    }
   ],
   "source": [
    "model.summary()"
   ]
  },
  {
   "cell_type": "markdown",
   "metadata": {},
   "source": [
    "# Adding Convolutions <a name=\"model3\"></a>\n",
    "* Convolutional Layer w/ RELU activation\n",
    "* Flattening Layer\n",
    "* Dense Layer 1 w/ RELU activation\n",
    "* Dense Layer 2 w/ Linear activation"
   ]
  },
  {
   "cell_type": "code",
   "execution_count": 28,
   "metadata": {
    "pycharm": {
     "is_executing": true
    }
   },
   "outputs": [],
   "source": [
    "class ModelConv(Model):\n",
    "    def __init__(self):\n",
    "        super(ModelConv, self).__init__()\n",
    "        self.conv1 = Conv2D(32, 3, activation='relu')\n",
    "        self.flatten = Flatten()\n",
    "        self.d1 = Dense(128, activation='relu')\n",
    "        self.d2 = Dense(10)\n",
    "    def call(self, x):\n",
    "        x = self.conv1(x)\n",
    "        x = self.flatten(x)\n",
    "        x = self.d1(x)\n",
    "        return self.d2(x)\n",
    "\n",
    "model=ModelConv()"
   ]
  },
  {
   "cell_type": "code",
   "execution_count": 29,
   "metadata": {
    "pycharm": {
     "is_executing": true
    }
   },
   "outputs": [],
   "source": [
    "loss_object = tf.keras.losses.SparseCategoricalCrossentropy(from_logits=True)\n",
    "optimizer = tf.keras.optimizers.Adam()"
   ]
  },
  {
   "cell_type": "code",
   "execution_count": 30,
   "metadata": {
    "pycharm": {
     "is_executing": true
    }
   },
   "outputs": [],
   "source": [
    "train_loss = tf.keras.metrics.Mean(name='train_loss')\n",
    "train_acc = tf.keras.metrics.SparseCategoricalAccuracy(name='train_accuracy')\n",
    "\n",
    "test_loss = tf.keras.metrics.Mean(name='test_loss')\n",
    "test_acc = tf.keras.metrics.SparseCategoricalAccuracy(name='test_accuracy')"
   ]
  },
  {
   "cell_type": "code",
   "execution_count": 31,
   "metadata": {
    "pycharm": {
     "is_executing": true
    }
   },
   "outputs": [],
   "source": [
    "@tf.function\n",
    "def train_step(images, labels):\n",
    "    with tf.GradientTape() as tape:\n",
    "        predictions = model(images, training=True)\n",
    "        loss = loss_object(labels, predictions)\n",
    "    gradients = tape.gradient(loss, model.trainable_variables)\n",
    "    optimizer.apply_gradients(zip(gradients, model.trainable_variables))\n",
    "\n",
    "    train_loss(loss)\n",
    "    train_acc(labels, predictions)"
   ]
  },
  {
   "cell_type": "code",
   "execution_count": 32,
   "metadata": {
    "pycharm": {
     "is_executing": true
    }
   },
   "outputs": [],
   "source": [
    "@tf.function\n",
    "def test_step(images, labels):\n",
    "    predictions = model(images, training=False)\n",
    "    t_loss = loss_object(labels, predictions)\n",
    "\n",
    "    test_loss(t_loss)\n",
    "    test_acc(labels, predictions)"
   ]
  },
  {
   "cell_type": "code",
   "execution_count": 33,
   "metadata": {
    "pycharm": {
     "is_executing": true
    }
   },
   "outputs": [],
   "source": [
    "train_log_dir = 'logs/gradient_tape/convolutional/train'\n",
    "test_log_dir = 'logs/gradient_tape/convolutional/test'\n",
    "train_summary_writer = tf.summary.create_file_writer(train_log_dir)\n",
    "test_summary_writer = tf.summary.create_file_writer(test_log_dir)"
   ]
  },
  {
   "cell_type": "code",
   "execution_count": 34,
   "metadata": {
    "pycharm": {
     "is_executing": true
    }
   },
   "outputs": [],
   "source": [
    "EPOCHS = 10"
   ]
  },
  {
   "cell_type": "code",
   "execution_count": null,
   "metadata": {
    "pycharm": {
     "is_executing": true
    }
   },
   "outputs": [
    {
     "name": "stdout",
     "output_type": "stream",
     "text": [
      "WARNING:tensorflow:Layer model_conv is casting an input tensor from dtype float64 to the layer's dtype of float32, which is new behavior in TensorFlow 2.  The layer has dtype float32 because it's dtype defaults to floatx.\n",
      "\n",
      "If you intended to run this layer in float32, you can safely ignore this warning. If in doubt, this warning is likely only an issue if you are porting a TensorFlow 1.X model to TensorFlow 2.\n",
      "\n",
      "To change all layers to have dtype float64 by default, call `tf.keras.backend.set_floatx('float64')`. To change just this layer, pass dtype='float64' to the layer constructor. If you are the author of this layer, you can disable autocasting by passing autocast=False to the base Layer constructor.\n",
      "\n",
      "Epoch 1, Loss: 0.13508276641368866, Accuracy: 95.85166931152344, Test Loss: 0.06250783801078796, Test Accuracy: 97.97000122070312\n",
      "Epoch 2, Loss: 0.042689453810453415, Accuracy: 98.70832824707031, Test Loss: 0.04973787069320679, Test Accuracy: 98.20500183105469\n",
      "Epoch 3, Loss: 0.02256181836128235, Accuracy: 99.23833465576172, Test Loss: 0.0709419772028923, Test Accuracy: 98.07666778564453\n",
      "Epoch 4, Loss: 0.01371733658015728, Accuracy: 99.54499816894531, Test Loss: 0.059853099286556244, Test Accuracy: 98.125\n",
      "Epoch 5, Loss: 0.00966675952076912, Accuracy: 99.67333221435547, Test Loss: 0.0615321584045887, Test Accuracy: 98.17399597167969\n",
      "Epoch 6, Loss: 0.008056589402258396, Accuracy: 99.74500274658203, Test Loss: 0.07463309913873672, Test Accuracy: 98.1683349609375\n",
      "Epoch 7, Loss: 0.00715291453525424, Accuracy: 99.74666595458984, Test Loss: 0.06886238604784012, Test Accuracy: 98.19571685791016\n",
      "Epoch 8, Loss: 0.004720870405435562, Accuracy: 99.84500122070312, Test Loss: 0.07959191501140594, Test Accuracy: 98.20124816894531\n",
      "Epoch 9, Loss: 0.0043792761862277985, Accuracy: 99.84833526611328, Test Loss: 0.07745707780122757, Test Accuracy: 98.22000122070312\n"
     ]
    }
   ],
   "source": [
    "train_loss_results_conv = []\n",
    "train_accuracy_results_conv = []\n",
    "test_loss_results_conv = []\n",
    "test_accuracy_results_conv = []\n",
    "\n",
    "for epoch in range(EPOCHS):\n",
    "  # Reset the metrics at the start of the next epoch\n",
    "    train_loss.reset_states()\n",
    "    train_acc.reset_states()\n",
    "    test_loss.reset_states()\n",
    "    train_acc.reset_states()\n",
    "\n",
    "    for images, labels in train_ds:\n",
    "        train_step(images, labels)\n",
    "    with train_summary_writer.as_default():\n",
    "        tf.summary.scalar('loss', train_loss.result(), step=epoch)\n",
    "        tf.summary.scalar('accuracy', train_acc.result(), step=epoch)\n",
    "\n",
    "    for test_images, test_labels in test_ds:\n",
    "        test_step(test_images, test_labels)\n",
    "    with test_summary_writer.as_default():\n",
    "        tf.summary.scalar('loss', test_loss.result(), step=epoch)\n",
    "        tf.summary.scalar('accuracy', test_acc.result(), step=epoch)\n",
    "\n",
    "    template = 'Epoch {}, Loss: {}, Accuracy: {}, Test Loss: {}, Test Accuracy: {}'\n",
    "    print(template.format(epoch + 1,\n",
    "                        train_loss.result(),\n",
    "                        train_acc.result() * 100,\n",
    "                        test_loss.result(),\n",
    "                        test_acc.result() * 100))\n",
    "    train_loss_results_conv.append(train_loss.result())\n",
    "    train_accuracy_results_conv.append(train_acc.result() * 100)\n",
    "    test_loss_results_conv.append(test_loss.result())\n",
    "    test_accuracy_results_conv.append(test_acc.result() * 100)"
   ]
  },
  {
   "cell_type": "code",
   "execution_count": null,
   "metadata": {
    "pycharm": {
     "is_executing": true
    }
   },
   "outputs": [],
   "source": [
    "fig, (ax1, ax2) = plt.subplots(1,2)\n",
    "ax1.plot([x for x in range(1,EPOCHS+1)], train_loss_results_conv, label='Training loss', marker='^')\n",
    "ax1.plot([x for x in range(1,EPOCHS+1)], test_loss_results_conv, label='Testing loss', marker='^')\n",
    "ax1.set_title(\"Loss Plot\")\n",
    "ax1.set_xlabel(\"Epoch\")\n",
    "ax1.set_ylabel(\"Loss\")\n",
    "ax2.plot([x for x in range(1,EPOCHS+1)], train_accuracy_results_conv, label='Training accuracy', marker='o')\n",
    "ax2.plot([x for x in range(1,EPOCHS+1)], test_accuracy_results_conv, label='Testing accuracy', marker='o')\n",
    "ax2.set_title(\"Accuracy Plot\")\n",
    "ax2.set_xlabel(\"Epoch\")\n",
    "ax2.set_ylabel(\"%\")\n",
    "ax1.legend()\n",
    "ax2.legend()\n",
    "fig.tight_layout()"
   ]
  },
  {
   "cell_type": "code",
   "execution_count": null,
   "metadata": {
    "pycharm": {
     "is_executing": true
    },
    "scrolled": false
   },
   "outputs": [],
   "source": [
    "model.summary()"
   ]
  },
  {
   "cell_type": "markdown",
   "metadata": {},
   "source": [
    "# Model Comparison <a name=\"compare\"></a>"
   ]
  },
  {
   "cell_type": "code",
   "execution_count": null,
   "metadata": {
    "pycharm": {
     "is_executing": true
    }
   },
   "outputs": [],
   "source": [
    "fig, (ax1, ax2) = plt.subplots(1,2)\n",
    "ax1.plot([x for x in range(1,EPOCHS+1)], test_loss_results_baseline, label='Loss Model-1', marker='^')\n",
    "ax1.plot([x for x in range(1,EPOCHS+1)], test_loss_results_denser, label='Loss Model-2', marker='^')\n",
    "ax1.plot([x for x in range(1,EPOCHS+1)], test_loss_results_conv, label='Loss Model-3', marker='^')\n",
    "ax1.set_title(\"Testing Loss\")\n",
    "ax1.set_xlabel(\"Epoch\")\n",
    "ax1.set_ylabel(\"Loss\")\n",
    "ax2.plot([x for x in range(1,EPOCHS+1)], test_accuracy_results_baseline, label='Accuracy Model-1', marker='o')\n",
    "ax2.plot([x for x in range(1,EPOCHS+1)], test_accuracy_results_denser, label='Accuracy Model-2', marker='o')\n",
    "ax2.plot([x for x in range(1,EPOCHS+1)], test_accuracy_results_conv, label='Accuracy Model-3', marker='o')\n",
    "ax2.set_title(\"Testing Accuracy\")\n",
    "ax2.set_xlabel(\"Epoch\")\n",
    "ax2.set_ylabel(\"%\")\n",
    "ax1.legend()\n",
    "ax2.legend()\n",
    "fig.tight_layout()"
   ]
  },
  {
   "cell_type": "code",
   "execution_count": null,
   "metadata": {},
   "outputs": [],
   "source": [
    "!tensorboard --logdir logs/"
   ]
  }
 ],
 "metadata": {
  "kernelspec": {
   "display_name": "Python 3",
   "language": "python",
   "name": "python3"
  },
  "language_info": {
   "codemirror_mode": {
    "name": "ipython",
    "version": 3
   },
   "file_extension": ".py",
   "mimetype": "text/x-python",
   "name": "python",
   "nbconvert_exporter": "python",
   "pygments_lexer": "ipython3",
   "version": "3.7.7"
  }
 },
 "nbformat": 4,
 "nbformat_minor": 4
}