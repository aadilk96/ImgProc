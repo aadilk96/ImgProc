{
 "cells": [
  {
   "cell_type": "code",
   "execution_count": 1,
   "metadata": {},
   "outputs": [
    {
     "name": "stdout",
     "output_type": "stream",
     "text": [
      "TensorFlow version:  2.1.0\n"
     ]
    }
   ],
   "source": [
    "from __future__ import absolute_import\n",
    "from __future__ import division\n",
    "from __future__ import print_function\n",
    "import tensorflow as tf\n",
    "\n",
    "from tensorflow.keras.layers import Dense, Flatten, Conv2D, Dropout\n",
    "from tensorflow.keras.models import Sequential\n",
    "from tensorflow.keras import Model\n",
    "from tensorflow import keras\n",
    "\n",
    "import seaborn as sns\n",
    "import matplotlib as mp\n",
    "%matplotlib inline\n",
    "import math\n",
    "import numpy as np\n",
    "from datetime import datetime\n",
    "import io\n",
    "import itertools\n",
    "from packaging import version\n",
    "from six.moves import range\n",
    "\n",
    "\n",
    "import matplotlib.pyplot as plt\n",
    "import sklearn.metrics\n",
    "\n",
    "print(\"TensorFlow version: \", tf.__version__)\n",
    "assert version.parse(tf.__version__).release[0] >= 2, \\\n",
    "    \"This notebook requires TensorFlow 2.0 or above.\"\n",
    "\n",
    "\n",
    "\"\"\"this is important because i realized the model might not reset\"\"\"\n",
    "tf.keras.backend.clear_session()\n",
    "\n",
    "plt.style.use('seaborn')\n",
    "plt.rcParams['figure.figsize'] = (14.0, 5.0)"
   ]
  },
  {
   "cell_type": "markdown",
   "metadata": {},
   "source": [
    "# Table of contents\n",
    "1. [Normal Model](#introduction)\n",
    "2. [Custom Model I](#model1)\n",
    "3. [Custom Model II](#model2)"
   ]
  },
  {
   "cell_type": "code",
   "execution_count": 2,
   "metadata": {
    "pycharm": {
     "name": "#%%\n"
    }
   },
   "outputs": [],
   "source": [
    "np.random.seed(7)"
   ]
  },
  {
   "cell_type": "code",
   "execution_count": 3,
   "metadata": {},
   "outputs": [],
   "source": [
    "mnist = tf.keras.datasets.mnist\n",
    "\n",
    "(x_train, y_train), (x_test, y_test) = mnist.load_data()\n",
    "x_train, x_test = x_train / 255.0, x_test / 255.0\n"
   ]
  },
  {
   "cell_type": "code",
   "execution_count": 4,
   "metadata": {},
   "outputs": [
    {
     "name": "stdout",
     "output_type": "stream",
     "text": [
      "Shape:  (28, 28)\n",
      "Label:  5 -> 5\n"
     ]
    }
   ],
   "source": [
    "x2_train = x_train[..., tf.newaxis]\n",
    "x2_test = x_test[..., tf.newaxis]\n",
    "\n",
    "train_ds = tf.data.Dataset.from_tensor_slices((x2_train, y_train)).shuffle(10000).batch(32)\n",
    "test_ds = tf.data.Dataset.from_tensor_slices((x2_test, y_test)).batch(32)\n",
    "\n",
    "class_names = ['0', '1', '2', '3', '4', \n",
    "    '5', '6', '7', '8', '9']\n",
    "\n",
    "print(\"Shape: \", x_train[0].shape)\n",
    "print(\"Label: \", y_train[0], \"->\", class_names[y_train[0]])"
   ]
  },
  {
   "cell_type": "code",
   "execution_count": 5,
   "metadata": {},
   "outputs": [],
   "source": [
    "img = np.reshape(x_train[0], (-1, 28, 28, 1))"
   ]
  },
  {
   "cell_type": "code",
   "execution_count": 6,
   "metadata": {},
   "outputs": [],
   "source": [
    "!rm -rf logs\n",
    "\n",
    "# Creates a file writer for the log directory. I made it so that different categories contain different stuf\n",
    "logdir = \"logs/sample_data/\"\n",
    "file_writer = tf.summary.create_file_writer(logdir)\n",
    "\n",
    "with file_writer.as_default():\n",
    "  images = np.reshape(x_train[0:25], (-1, 28, 28, 1))\n",
    "  tf.summary.image(\"25 training data examples\", images, max_outputs=25, step=0)"
   ]
  },
  {
   "cell_type": "code",
   "execution_count": 7,
   "metadata": {},
   "outputs": [
    {
     "data": {
      "image/png": "[encoded data removed]",
      "text/plain": [
       "<Figure size 720x720 with 25 Axes>"
      ]
     },
     "metadata": {},
     "output_type": "display_data"
    },
    {
     "data": {
      "text/plain": [
       "<Figure size 1008x360 with 0 Axes>"
      ]
     },
     "metadata": {},
     "output_type": "display_data"
    }
   ],
   "source": [
    "def plot_to_image(figure):\n",
    "  \"\"\"Converts the matplotlib plot specified by 'figure' to a PNG image and\n",
    "  returns it. The supplied figure is closed and inaccessible after this call.\"\"\"\n",
    "  # Save the plot to a PNG in memory.\n",
    "  buf = io.BytesIO()\n",
    "  plt.savefig(buf, format='png')\n",
    "  # Closing the figure prevents it from being displayed directly inside\n",
    "  # the notebook.\n",
    "  plt.close(figure)\n",
    "  buf.seek(0)\n",
    "  # Convert PNG buffer to TF image\n",
    "  image = tf.image.decode_png(buf.getvalue(), channels=4)\n",
    "  # Add the batch dimension\n",
    "  image = tf.expand_dims(image, 0)\n",
    "  return image\n",
    "\n",
    "def image_grid():\n",
    "  \"\"\"Return a 5x5 grid of the MNIST images as a matplotlib figure.\"\"\"\n",
    "  # Create a figure to contain the plot.\n",
    "  figure = plt.figure(figsize=(10,10))\n",
    "  for i in range(25):\n",
    "    # Start next subplot.\n",
    "    plt.subplot(5, 5, i + 1, title=class_names[y_train[i]])\n",
    "    plt.xticks([])\n",
    "    plt.yticks([])\n",
    "    plt.grid(False)\n",
    "    plt.imshow(x_train[i], cmap=plt.cm.binary)\n",
    "  plt.show()\n",
    "  return figure\n",
    "\n",
    "# Prepare the plot\n",
    "figure = image_grid()\n",
    "# Convert to image and log\n",
    "with file_writer.as_default():\n",
    "  tf.summary.image(\"Training data\", plot_to_image(figure), step=0)"
   ]
  },
  {
   "cell_type": "markdown",
   "metadata": {},
   "source": [
    "# Normal Model <a name=\"introduction\"></a>\n",
    "* Convolutional Layer w/ RELU activation\n",
    "* Flattening Layer\n",
    "* Dense Layer 1 w/ RELU activation\n",
    "* Dense Layer 2 w/ Linear activation"
   ]
  },
  {
   "cell_type": "code",
   "execution_count": 8,
   "metadata": {},
   "outputs": [],
   "source": [
    "class ModelOne(Model):\n",
    "    def __init__(self):\n",
    "        super(ModelOne, self).__init__()\n",
    "        self.conv1 = Conv2D(32, 3, activation='relu')\n",
    "        self.flatten = Flatten()\n",
    "        self.d1 = Dense(128, activation='relu')\n",
    "        self.d2 = Dense(10)\n",
    "    def call(self, x):\n",
    "        x = self.conv1(x)\n",
    "        x = self.flatten(x)\n",
    "        x = self.d1(x)\n",
    "        return self.d2(x)\n",
    "\n",
    "model=ModelOne()"
   ]
  },
  {
   "cell_type": "code",
   "execution_count": 9,
   "metadata": {},
   "outputs": [],
   "source": [
    "# It uses crossentropy between the labels and predictions to compute loss.\n",
    "loss_object = tf.keras.losses.SparseCategoricalCrossentropy(from_logits=True)\n",
    "optimizer = tf.keras.optimizers.Adam()"
   ]
  },
  {
   "cell_type": "code",
   "execution_count": 10,
   "metadata": {},
   "outputs": [],
   "source": [
    "train_loss = tf.keras.metrics.Mean(name='train_loss')\n",
    "train_acc = tf.keras.metrics.SparseCategoricalAccuracy(name='train_accuracy')\n",
    "\n",
    "test_loss = tf.keras.metrics.Mean(name='test_loss')\n",
    "test_acc = tf.keras.metrics.SparseCategoricalAccuracy(name='test_accuracy')"
   ]
  },
  {
   "cell_type": "code",
   "execution_count": 11,
   "metadata": {},
   "outputs": [],
   "source": [
    "@tf.function\n",
    "def train_step(images, labels):\n",
    "    with tf.GradientTape() as tape:\n",
    "    # training=True is only needed if there are layers with different\n",
    "    # behavior during training versus inference (e.g. Dropout).\n",
    "        predictions = model(images, training=True)\n",
    "        loss = loss_object(labels, predictions)\n",
    "    gradients = tape.gradient(loss, model.trainable_variables)\n",
    "    optimizer.apply_gradients(zip(gradients, model.trainable_variables))\n",
    "\n",
    "    train_loss(loss)\n",
    "    train_acc(labels, predictions)"
   ]
  },
  {
   "cell_type": "code",
   "execution_count": 12,
   "metadata": {},
   "outputs": [],
   "source": [
    "@tf.function\n",
    "def test_step(images, labels):\n",
    "  # training=False is only needed if there are layers with different\n",
    "  # behavior during training versus inference (e.g. Dropout).\n",
    "    predictions = model(images, training=False)\n",
    "    t_loss = loss_object(labels, predictions)\n",
    "\n",
    "    test_loss(t_loss)\n",
    "    test_acc(labels, predictions)"
   ]
  },
  {
   "cell_type": "code",
   "execution_count": 13,
   "metadata": {},
   "outputs": [],
   "source": [
    "!rm -rf logs/gradient_tape"
   ]
  },
  {
   "cell_type": "code",
   "execution_count": 14,
   "metadata": {},
   "outputs": [],
   "source": [
    "train_log_dir = 'logs/gradient_tape/main_model/train'\n",
    "test_log_dir = 'logs/gradient_tape/main_model/test'\n",
    "train_summary_writer = tf.summary.create_file_writer(train_log_dir)\n",
    "test_summary_writer = tf.summary.create_file_writer(test_log_dir)"
   ]
  },
  {
   "cell_type": "code",
   "execution_count": 15,
   "metadata": {},
   "outputs": [],
   "source": [
    "EPOCHS = 5"
   ]
  },
  {
   "cell_type": "code",
   "execution_count": 16,
   "metadata": {},
   "outputs": [
    {
     "name": "stdout",
     "output_type": "stream",
     "text": [
      "WARNING:tensorflow:Layer model_one is casting an input tensor from dtype float64 to the layer's dtype of float32, which is new behavior in TensorFlow 2.  The layer has dtype float32 because it's dtype defaults to floatx.\n",
      "\n",
      "If you intended to run this layer in float32, you can safely ignore this warning. If in doubt, this warning is likely only an issue if you are porting a TensorFlow 1.X model to TensorFlow 2.\n",
      "\n",
      "To change all layers to have dtype float64 by default, call `tf.keras.backend.set_floatx('float64')`. To change just this layer, pass dtype='float64' to the layer constructor. If you are the author of this layer, you can disable autocasting by passing autocast=False to the base Layer constructor.\n",
      "\n",
      "Epoch 1, Loss: 0.13440343737602234, Accuracy: 95.95999908447266, Test Loss: 0.06658787280321121, Test Accuracy: 97.81999969482422\n",
      "Epoch 2, Loss: 0.042444854974746704, Accuracy: 98.66832733154297, Test Loss: 0.0521172396838665, Test Accuracy: 98.01499938964844\n",
      "Epoch 3, Loss: 0.022384438663721085, Accuracy: 99.3116683959961, Test Loss: 0.04735477268695831, Test Accuracy: 98.19667053222656\n",
      "Epoch 4, Loss: 0.013165202923119068, Accuracy: 99.5633316040039, Test Loss: 0.0594371035695076, Test Accuracy: 98.2249984741211\n",
      "Epoch 5, Loss: 0.0093603003770113, Accuracy: 99.6883316040039, Test Loss: 0.05815108120441437, Test Accuracy: 98.26399993896484\n"
     ]
    }
   ],
   "source": [
    "train_loss_results_0 = []\n",
    "train_accuracy_results_0 = []\n",
    "test_loss_results_0 = []\n",
    "test_accuracy_results_0 = []\n",
    "\n",
    "for epoch in range(EPOCHS):\n",
    "  # Reset the metrics at the start of the next epoch\n",
    "    train_loss.reset_states()\n",
    "    train_acc.reset_states()\n",
    "    test_loss.reset_states()\n",
    "    train_acc.reset_states()\n",
    "\n",
    "    for images, labels in train_ds:\n",
    "        train_step(images, labels)\n",
    "    with train_summary_writer.as_default():\n",
    "        tf.summary.scalar('loss', train_loss.result(), step=epoch)\n",
    "        tf.summary.scalar('accuracy', train_acc.result(), step=epoch)\n",
    "\n",
    "    for test_images, test_labels in test_ds:\n",
    "        test_step(test_images, test_labels)\n",
    "    with test_summary_writer.as_default():\n",
    "        tf.summary.scalar('loss', test_loss.result(), step=epoch)\n",
    "        tf.summary.scalar('accuracy', test_acc.result(), step=epoch)\n",
    "\n",
    "    template = 'Epoch {}, Loss: {}, Accuracy: {}, Test Loss: {}, Test Accuracy: {}'\n",
    "    print(template.format(epoch + 1,\n",
    "                        train_loss.result(),\n",
    "                        train_acc.result() * 100,\n",
    "                        test_loss.result(),\n",
    "                        test_acc.result() * 100))\n",
    "    train_loss_results_0.append(train_loss.result())\n",
    "    train_accuracy_results_0.append(train_acc.result() * 100)\n",
    "    test_loss_results_0.append(test_loss.result())\n",
    "    test_accuracy_results_0.append(test_acc.result() * 100)"
   ]
  },
  {
   "cell_type": "code",
   "execution_count": 17,
   "metadata": {},
   "outputs": [
    {
     "data": {
      "image/png": "[encoded data removed]",
      "text/plain": [
       "<Figure size 1008x360 with 2 Axes>"
      ]
     },
     "metadata": {},
     "output_type": "display_data"
    }
   ],
   "source": [
    "fig, (ax1, ax2) = plt.subplots(1,2)\n",
    "ax1.plot([x for x in range(1,EPOCHS+1)], train_loss_results_0, label='training loss', marker='^')\n",
    "ax1.plot([x for x in range(1,EPOCHS+1)], test_loss_results_0, label='testing loss', marker='^')\n",
    "ax1.set_title(\"Loss\")\n",
    "ax1.set_xlabel(\"Epoch\")\n",
    "ax2.plot([x for x in range(1,EPOCHS+1)], train_accuracy_results_0, label='training accuracy', marker='o')\n",
    "ax2.plot([x for x in range(1,EPOCHS+1)], test_accuracy_results_0, label='testing accuracy', marker='o')\n",
    "ax2.set_title(\"Accuracy\")\n",
    "ax2.set_xlabel(\"Epoch\")\n",
    "ax1.legend(loc=7)\n",
    "ax2.legend(loc=7)\n",
    "fig.tight_layout()"
   ]
  },
  {
   "cell_type": "code",
   "execution_count": 18,
   "metadata": {},
   "outputs": [
    {
     "name": "stdout",
     "output_type": "stream",
     "text": [
      "Model: \"model_one\"\n",
      "_________________________________________________________________\n",
      "Layer (type)                 Output Shape              Param #   \n",
      "=================================================================\n",
      "conv2d (Conv2D)              multiple                  320       \n",
      "_________________________________________________________________\n",
      "flatten (Flatten)            multiple                  0         \n",
      "_________________________________________________________________\n",
      "dense (Dense)                multiple                  2769024   \n",
      "_________________________________________________________________\n",
      "dense_1 (Dense)              multiple                  1290      \n",
      "=================================================================\n",
      "Total params: 2,770,634\n",
      "Trainable params: 2,770,634\n",
      "Non-trainable params: 0\n",
      "_________________________________________________________________\n"
     ]
    }
   ],
   "source": [
    "model.summary()"
   ]
  },
  {
   "cell_type": "markdown",
   "metadata": {},
   "source": [
    "# Custom Model I <a name=\"model1\"></a>\n",
    "* Convolutional Layer w/ RELU activation\n",
    "* Flattening Layer\n",
    "* Dense Layer w/ Linear activation"
   ]
  },
  {
   "cell_type": "code",
   "execution_count": 19,
   "metadata": {},
   "outputs": [],
   "source": [
    "class ModelTwo(Model):\n",
    "    def __init__(self):\n",
    "        super(ModelTwo, self).__init__()\n",
    "        self.conv1 = Conv2D(32, 3, activation='relu')\n",
    "        self.flatten = Flatten()\n",
    "        self.d2 = Dense(10)\n",
    "    def call(self, x):\n",
    "        x = self.conv1(x)\n",
    "        x = self.flatten(x)\n",
    "        return self.d2(x)\n",
    "\n",
    "model=ModelTwo()"
   ]
  },
  {
   "cell_type": "code",
   "execution_count": 20,
   "metadata": {},
   "outputs": [],
   "source": [
    "@tf.function\n",
    "def train_step(images, labels):\n",
    "    with tf.GradientTape() as tape:\n",
    "    # training=True is only needed if there are layers with different\n",
    "    # behavior during training versus inference (e.g. Dropout).\n",
    "        predictions = model(images, training=True)\n",
    "        loss = loss_object(labels, predictions)\n",
    "    gradients = tape.gradient(loss, model.trainable_variables)\n",
    "    optimizer.apply_gradients(zip(gradients, model.trainable_variables))\n",
    "\n",
    "    train_loss(loss)\n",
    "    train_acc(labels, predictions)"
   ]
  },
  {
   "cell_type": "code",
   "execution_count": 21,
   "metadata": {},
   "outputs": [],
   "source": [
    "@tf.function\n",
    "def test_step(images, labels):\n",
    "  # training=False is only needed if there are layers with different\n",
    "  # behavior during training versus inference (e.g. Dropout).\n",
    "    predictions = model(images, training=False)\n",
    "    t_loss = loss_object(labels, predictions)\n",
    "\n",
    "    test_loss(t_loss)\n",
    "    test_acc(labels, predictions)"
   ]
  },
  {
   "cell_type": "code",
   "execution_count": 22,
   "metadata": {},
   "outputs": [],
   "source": [
    "train_log_dir = 'logs/gradient_tape/second_model/train'\n",
    "test_log_dir = 'logs/gradient_tape/second_model/test'\n",
    "train_summary_writer = tf.summary.create_file_writer(train_log_dir)\n",
    "test_summary_writer = tf.summary.create_file_writer(test_log_dir)"
   ]
  },
  {
   "cell_type": "code",
   "execution_count": 23,
   "metadata": {},
   "outputs": [
    {
     "ename": "NameError",
     "evalue": "name 'train_loss_results' is not defined",
     "output_type": "error",
     "traceback": [
      "\u001b[0;31m---------------------------------------------------------------------------\u001b[0m",
      "\u001b[0;31mNameError\u001b[0m                                 Traceback (most recent call last)",
      "\u001b[0;32m<ipython-input-23-0a1c0b4dfa37>\u001b[0m in \u001b[0;36m<module>\u001b[0;34m\u001b[0m\n\u001b[1;32m      4\u001b[0m \u001b[0mtest_accuracy_results_1\u001b[0m \u001b[0;34m=\u001b[0m \u001b[0;34m[\u001b[0m\u001b[0;34m]\u001b[0m\u001b[0;34m\u001b[0m\u001b[0;34m\u001b[0m\u001b[0m\n\u001b[1;32m      5\u001b[0m \u001b[0;34m\u001b[0m\u001b[0m\n\u001b[0;32m----> 6\u001b[0;31m \u001b[0mtrain_loss_results\u001b[0m\u001b[0;34m.\u001b[0m\u001b[0mclear\u001b[0m\u001b[0;34m(\u001b[0m\u001b[0;34m)\u001b[0m\u001b[0;34m\u001b[0m\u001b[0;34m\u001b[0m\u001b[0m\n\u001b[0m\u001b[1;32m      7\u001b[0m \u001b[0mtrain_accuracy_results\u001b[0m\u001b[0;34m.\u001b[0m\u001b[0mclear\u001b[0m\u001b[0;34m(\u001b[0m\u001b[0;34m)\u001b[0m\u001b[0;34m\u001b[0m\u001b[0;34m\u001b[0m\u001b[0m\n\u001b[1;32m      8\u001b[0m \u001b[0mtest_loss_results\u001b[0m\u001b[0;34m.\u001b[0m\u001b[0mclear\u001b[0m\u001b[0;34m(\u001b[0m\u001b[0;34m)\u001b[0m\u001b[0;34m\u001b[0m\u001b[0;34m\u001b[0m\u001b[0m\n",
      "\u001b[0;31mNameError\u001b[0m: name 'train_loss_results' is not defined"
     ]
    }
   ],
   "source": [
    "train_loss_results_1 = []\n",
    "train_accuracy_results_1 = []\n",
    "test_loss_results_1 = []\n",
    "test_accuracy_results_1 = []\n",
    "\n",
    "train_loss_results.clear()\n",
    "train_accuracy_results.clear()\n",
    "test_loss_results.clear()\n",
    "test_accuracy_results.clear()\n",
    "\n",
    "\n",
    "for epoch in range(EPOCHS):\n",
    "  # Reset the metrics at the start of the next epoch\n",
    "    train_loss.reset_states()\n",
    "    train_acc.reset_states()\n",
    "    test_loss.reset_states()\n",
    "    train_acc.reset_states()\n",
    "\n",
    "    for images, labels in train_ds:\n",
    "        train_step(images, labels)\n",
    "    with train_summary_writer.as_default():\n",
    "        tf.summary.scalar('loss', train_loss.result(), step=epoch)\n",
    "        tf.summary.scalar('accuracy', train_acc.result(), step=epoch)\n",
    "\n",
    "    for test_images, test_labels in test_ds:\n",
    "        test_step(test_images, test_labels)\n",
    "    with test_summary_writer.as_default():\n",
    "        tf.summary.scalar('loss', test_loss.result(), step=epoch)\n",
    "        tf.summary.scalar('accuracy', test_acc.result(), step=epoch)\n",
    "\n",
    "    template = 'Epoch {}, Loss: {}, Accuracy: {}, Test Loss: {}, Test Accuracy: {}'\n",
    "    print(template.format(epoch + 1,\n",
    "                        train_loss.result(),\n",
    "                        train_acc.result() * 100,\n",
    "                        test_loss.result(),\n",
    "                        test_acc.result() * 100))\n",
    "    train_loss_results_1.append(train_loss.result())\n",
    "    train_accuracy_results_1.append(train_acc.result() * 100)\n",
    "    test_loss_results_1.append(test_loss.result())\n",
    "    test_accuracy_results_1.append(test_acc.result() * 100)"
   ]
  },
  {
   "cell_type": "code",
   "execution_count": null,
   "metadata": {},
   "outputs": [],
   "source": [
    "model.summary()"
   ]
  },
  {
   "cell_type": "code",
   "execution_count": null,
   "metadata": {},
   "outputs": [],
   "source": [
    "fig, (ax1, ax2) = plt.subplots(1,2)\n",
    "ax1.plot([x for x in range(1,EPOCHS+1)], train_loss_results_1, label='training loss', marker='^')\n",
    "ax1.plot([x for x in range(1,EPOCHS+1)], test_loss_results_1, label='testing loss', marker='^')\n",
    "ax1.set_title(\"Loss\")\n",
    "ax1.set_xlabel(\"Epoch\")\n",
    "ax2.plot([x for x in range(1,EPOCHS+1)], train_accuracy_results_1, label='training accuracy', marker='o')\n",
    "ax2.plot([x for x in range(1,EPOCHS+1)], test_accuracy_results_1, label='testing accuracy', marker='o')\n",
    "ax2.set_title(\"Accuracy\")\n",
    "ax2.set_xlabel(\"Epoch\")\n",
    "ax1.legend(loc=7)\n",
    "ax2.legend(loc=6)\n",
    "fig.tight_layout()"
   ]
  },
  {
   "cell_type": "markdown",
   "metadata": {},
   "source": [
    "# Custom Model II  <a name=\"model2\"></a>\n",
    "* Convolutional Layer w/ Linear Activation\n",
    "* Flattening Layer\n",
    "* Dense Layer 1 w/ Linear activation\n",
    "* Dense Layer 2 w/ Linear activation"
   ]
  },
  {
   "cell_type": "code",
   "execution_count": null,
   "metadata": {},
   "outputs": [],
   "source": [
    "class ModelThree(Model):\n",
    "    def __init__(self):\n",
    "        super(ModelThree, self).__init__()\n",
    "        self.conv1 = Conv2D(32, 3)\n",
    "        self.flatten = Flatten()\n",
    "        self.d1 = Dense(128)\n",
    "        self.d2 = Dense(10)\n",
    "    def call(self, x):\n",
    "        x = self.conv1(x)\n",
    "        x = self.flatten(x)\n",
    "        x = self.d1(x)\n",
    "        return self.d2(x)\n",
    "\n",
    "model=ModelThree()"
   ]
  },
  {
   "cell_type": "code",
   "execution_count": null,
   "metadata": {},
   "outputs": [],
   "source": [
    "@tf.function\n",
    "def train_step(images, labels):\n",
    "    with tf.GradientTape() as tape:\n",
    "    # training=True is only needed if there are layers with different\n",
    "    # behavior during training versus inference (e.g. Dropout).\n",
    "        predictions = model(images, training=True)\n",
    "        loss = loss_object(labels, predictions)\n",
    "    gradients = tape.gradient(loss, model.trainable_variables)\n",
    "    optimizer.apply_gradients(zip(gradients, model.trainable_variables))\n",
    "\n",
    "    train_loss(loss)\n",
    "    train_acc(labels, predictions)"
   ]
  },
  {
   "cell_type": "code",
   "execution_count": null,
   "metadata": {},
   "outputs": [],
   "source": [
    "@tf.function\n",
    "def test_step(images, labels):\n",
    "  # training=False is only needed if there are layers with different\n",
    "  # behavior during training versus inference (e.g. Dropout).\n",
    "    predictions = model(images, training=False)\n",
    "    t_loss = loss_object(labels, predictions)\n",
    "\n",
    "    test_loss(t_loss)\n",
    "    test_acc(labels, predictions)"
   ]
  },
  {
   "cell_type": "code",
   "execution_count": null,
   "metadata": {},
   "outputs": [],
   "source": [
    "train_log_dir = 'logs/gradient_tape/third_model/train'\n",
    "test_log_dir = 'logs/gradient_tape/third_model/test'\n",
    "train_summary_writer = tf.summary.create_file_writer(train_log_dir)\n",
    "test_summary_writer = tf.summary.create_file_writer(test_log_dir)"
   ]
  },
  {
   "cell_type": "code",
   "execution_count": null,
   "metadata": {},
   "outputs": [],
   "source": [
    "train_loss_results.clear()\n",
    "train_accuracy_results.clear()\n",
    "test_loss_results.clear()\n",
    "test_accuracy_results.clear()\n",
    "\n",
    "train_loss_results_2 = []\n",
    "train_accuracy_results_2 = []\n",
    "test_loss_results_2 = []\n",
    "test_accuracy_results_2 = []\n",
    "\n",
    "for epoch in range(EPOCHS):\n",
    "  # Reset the metrics at the start of the next epoch\n",
    "    train_loss.reset_states()\n",
    "    train_acc.reset_states()\n",
    "    test_loss.reset_states()\n",
    "    train_acc.reset_states()\n",
    "\n",
    "    for images, labels in train_ds:\n",
    "        train_step(images, labels)\n",
    "    with train_summary_writer.as_default():\n",
    "        tf.summary.scalar('loss', train_loss.result(), step=epoch)\n",
    "        tf.summary.scalar('accuracy', train_acc.result(), step=epoch)\n",
    "\n",
    "    for test_images, test_labels in test_ds:\n",
    "        test_step(test_images, test_labels)\n",
    "    with test_summary_writer.as_default():\n",
    "        tf.summary.scalar('loss', test_loss.result(), step=epoch)\n",
    "        tf.summary.scalar('accuracy', test_acc.result(), step=epoch)\n",
    "\n",
    "    template = 'Epoch {}, Loss: {}, Accuracy: {}, Test Loss: {}, Test Accuracy: {}'\n",
    "    print(template.format(epoch + 1,\n",
    "                        train_loss.result(),\n",
    "                        train_acc.result() * 100,\n",
    "                        test_loss.result(),\n",
    "                        test_acc.result() * 100))\n",
    "    train_loss_results_2.append(train_loss.result())\n",
    "    train_accuracy_results_2.append(train_acc.result() * 100)\n",
    "    test_loss_results_2.append(test_loss.result())\n",
    "    test_accuracy_results_2.append(test_acc.result() * 100)"
   ]
  },
  {
   "cell_type": "code",
   "execution_count": null,
   "metadata": {},
   "outputs": [],
   "source": [
    "model.summary()"
   ]
  },
  {
   "cell_type": "code",
   "execution_count": null,
   "metadata": {},
   "outputs": [],
   "source": [
    "fig, (ax1, ax2) = plt.subplots(1,2)\n",
    "ax1.plot([x for x in range(1,EPOCHS+1)], train_loss_results_2, label='training loss', marker='^')\n",
    "ax1.plot([x for x in range(1,EPOCHS+1)], test_loss_results_2, label='testing loss', marker='^')\n",
    "ax1.set_title(\"Loss\")\n",
    "ax1.set_xlabel(\"Epoch\")\n",
    "ax2.plot([x for x in range(1,EPOCHS+1)], train_accuracy_results_2, label='training accuracy', marker='o')\n",
    "ax2.plot([x for x in range(1,EPOCHS+1)], test_accuracy_results_2, label='testing accuracy', marker='o')\n",
    "ax2.set_title(\"Accuracy\")\n",
    "ax2.set_xlabel(\"Epoch\")\n",
    "ax1.legend(loc=7)\n",
    "ax2.legend(loc=6)\n",
    "fig.tight_layout()"
   ]
  },
  {
   "cell_type": "markdown",
   "metadata": {},
   "source": [
    "## Custome Model III\n",
    "No convolutions in order to create a baseline model"
   ]
  },
  {
   "cell_type": "code",
   "execution_count": null,
   "metadata": {},
   "outputs": [],
   "source": [
    "class ModelFour(Model):\n",
    "    def __init__(self):\n",
    "        super(ModelFour, self).__init__()\n",
    "        self.flat = Flatten()\n",
    "        self.d1 = Dense(45, activation='relu')\n",
    "        self.drop = Dropout(0.3)\n",
    "        self.d2 = Dense(35, activation='relu')\n",
    "        self.d3 = Dense(23, activation='relu')\n",
    "        self.d4 = Dense(10, activation='softmax')\n",
    "    def call(self, x):\n",
    "        x = self.flat(x)\n",
    "        x = self.d1(x)\n",
    "        x = self.drop(x)\n",
    "        x = self.d2(x)\n",
    "        x = self.d3(x)\n",
    "        return self.d4(x)\n",
    "\n",
    "model=ModelFour()"
   ]
  },
  {
   "cell_type": "code",
   "execution_count": null,
   "metadata": {},
   "outputs": [],
   "source": [
    "@tf.function\n",
    "def train_step(images, labels):\n",
    "    with tf.GradientTape() as tape:\n",
    "    # training=True is only needed if there are layers with different\n",
    "    # behavior during training versus inference (e.g. Dropout).\n",
    "        predictions = model(images, training=True)\n",
    "        loss = loss_object(labels, predictions)\n",
    "    gradients = tape.gradient(loss, model.trainable_variables)\n",
    "    optimizer.apply_gradients(zip(gradients, model.trainable_variables))\n",
    "\n",
    "    train_loss(loss)\n",
    "    train_acc(labels, predictions)"
   ]
  },
  {
   "cell_type": "code",
   "execution_count": null,
   "metadata": {},
   "outputs": [],
   "source": [
    "@tf.function\n",
    "def test_step(images, labels):\n",
    "  # training=False is only needed if there are layers with different\n",
    "  # behavior during training versus inference (e.g. Dropout).\n",
    "    predictions = model(images, training=False)\n",
    "    t_loss = loss_object(labels, predictions)\n",
    "\n",
    "    test_loss(t_loss)\n",
    "    test_acc(labels, predictions)"
   ]
  },
  {
   "cell_type": "code",
   "execution_count": null,
   "metadata": {},
   "outputs": [],
   "source": [
    "train_log_dir = 'logs/gradient_tape/third_model/train'\n",
    "test_log_dir = 'logs/gradient_tape/third_model/test'\n",
    "train_summary_writer = tf.summary.create_file_writer(train_log_dir)\n",
    "test_summary_writer = tf.summary.create_file_writer(test_log_dir)"
   ]
  },
  {
   "cell_type": "code",
   "execution_count": null,
   "metadata": {},
   "outputs": [],
   "source": [
    "train_loss_results.clear()\n",
    "train_accuracy_results.clear()\n",
    "test_loss_results.clear()\n",
    "test_accuracy_results.clear()\n",
    "\n",
    "train_loss_results_3 = []\n",
    "train_accuracy_results_3 = []\n",
    "test_loss_results_3 = []\n",
    "test_accuracy_results_3 = []\n",
    "\n",
    "for epoch in range(EPOCHS):\n",
    "  # Reset the metrics at the start of the next epoch\n",
    "    train_loss.reset_states()\n",
    "    train_acc.reset_states()\n",
    "    test_loss.reset_states()\n",
    "    train_acc.reset_states()\n",
    "\n",
    "    for images, labels in train_ds:\n",
    "        train_step(images, labels)\n",
    "    with train_summary_writer.as_default():\n",
    "        tf.summary.scalar('loss', train_loss.result(), step=epoch)\n",
    "        tf.summary.scalar('accuracy', train_acc.result(), step=epoch)\n",
    "\n",
    "    for test_images, test_labels in test_ds:\n",
    "        test_step(test_images, test_labels)\n",
    "    with test_summary_writer.as_default():\n",
    "        tf.summary.scalar('loss', test_loss.result(), step=epoch)\n",
    "        tf.summary.scalar('accuracy', test_acc.result(), step=epoch)\n",
    "\n",
    "    template = 'Epoch {}, Loss: {}, Accuracy: {}, Test Loss: {}, Test Accuracy: {}'\n",
    "    print(template.format(epoch + 1,\n",
    "                        train_loss.result(),\n",
    "                        train_acc.result() * 100,\n",
    "                        test_loss.result(),\n",
    "                        test_acc.result() * 100))\n",
    "    train_loss_results_3.append(train_loss.result())\n",
    "    train_accuracy_results_3.append(train_acc.result() * 100)\n",
    "    test_loss_results_3.append(test_loss.result())\n",
    "    test_accuracy_results_3.append(test_acc.result() * 100)"
   ]
  },
  {
   "cell_type": "code",
   "execution_count": null,
   "metadata": {},
   "outputs": [],
   "source": [
    "fig, (ax1, ax2) = plt.subplots(1,2)\n",
    "ax1.plot([x for x in range(1,EPOCHS+1)], train_loss_results_3, label='training loss', marker='^')\n",
    "ax1.plot([x for x in range(1,EPOCHS+1)], test_loss_results_3, label='testing loss', marker='^')\n",
    "ax1.set_title(\"Loss\")\n",
    "ax1.set_xlabel(\"Epoch\")\n",
    "ax2.plot([x for x in range(1,EPOCHS+1)], train_accuracy_results_3, label='training accuracy', marker='o')\n",
    "ax2.plot([x for x in range(1,EPOCHS+1)], test_accuracy_results_3, label='testing accuracy', marker='o')\n",
    "ax2.set_title(\"Accuracy\")\n",
    "ax2.set_xlabel(\"Epoch\")\n",
    "ax1.legend(loc=7)\n",
    "ax2.legend(loc=6)\n",
    "fig.tight_layout()"
   ]
  },
  {
   "cell_type": "code",
   "execution_count": null,
   "metadata": {},
   "outputs": [],
   "source": [
    "fig, (ax1, ax2) = plt.subplots(1,2)\n",
    "ax1.plot([x for x in range(1,EPOCHS+1)], test_loss_results_0, label='testing loss 0', marker='^')\n",
    "ax1.plot([x for x in range(1,EPOCHS+1)], test_loss_results_1, label='testing loss 1', marker='^')\n",
    "ax1.plot([x for x in range(1,EPOCHS+1)], test_loss_results_2, label='testing loss 2', marker='^')\n",
    "ax1.plot([x for x in range(1,EPOCHS+1)], test_loss_results_3, label='testing loss 2', marker='^')\n",
    "ax1.set_title(\"Loss\")\n",
    "ax1.set_xlabel(\"Epoch\")\n",
    "ax1.set_ylabel(\"Loss\")\n",
    "ax2.plot([x for x in range(1,EPOCHS+1)], test_accuracy_results_0, label='testing accuracy 0', marker='o')\n",
    "ax2.plot([x for x in range(1,EPOCHS+1)], test_accuracy_results_1, label='testing accuracy 1', marker='o')\n",
    "ax2.plot([x for x in range(1,EPOCHS+1)], test_accuracy_results_2, label='testing accuracy 2', marker='o')\n",
    "ax2.plot([x for x in range(1,EPOCHS+1)], test_accuracy_results_3, label='testing accuracy 2', marker='o')\n",
    "ax2.set_title(\"Accuracy\")\n",
    "ax2.set_xlabel(\"Epoch\")\n",
    "ax2.set_ylabel(\"%\")\n",
    "ax1.legend()\n",
    "ax2.legend(loc=7)\n",
    "fig.tight_layout()\n",
    "fig.est"
   ]
  },
  {
   "cell_type": "code",
   "execution_count": null,
   "metadata": {},
   "outputs": [],
   "source": []
  }
 ],
 "metadata": {
  "kernelspec": {
   "display_name": "Python 3",
   "language": "python",
   "name": "python3"
  },
  "language_info": {
   "codemirror_mode": {
    "name": "ipython",
    "version": 3
   },
   "file_extension": ".py",
   "mimetype": "text/x-python",
   "name": "python",
   "nbconvert_exporter": "python",
   "pygments_lexer": "ipython3",
   "version": "3.7.6"
  }
 },
 "nbformat": 4,
 "nbformat_minor": 1
}
