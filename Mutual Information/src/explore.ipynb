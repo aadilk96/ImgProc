{
 "cells": [
  {
   "cell_type": "code",
   "execution_count": 13,
   "metadata": {},
   "outputs": [],
   "source": [
    "import numpy as np\n",
    "import pandas as pd\n",
    "import matplotlib.pyplot as plt\n",
    "from matplotlib.image import NonUniformImage\n",
    "import matplotlib.image as img\n",
    "import seaborn as sns\n",
    "import scipy.stats as ss\n",
    "import scipy\n",
    "from scipy.stats import entropy as scipy_entropy\n",
    "from PIL import Image\n",
    "%matplotlib inline\n",
    "plt.style.use('seaborn')"
   ]
  },
  {
   "cell_type": "code",
   "execution_count": 14,
   "metadata": {},
   "outputs": [],
   "source": [
    "def jointTable(x, y):\n",
    "    ones = np.ones((len(x)+1, len(y)+1))\n",
    "    unique, counts = np.unique(x, return_counts=True)\n",
    "    xdic = dict(zip(unique, counts))\n",
    "    unique, counts = np.unique(y, return_counts=True)\n",
    "    ydic = dict(zip(unique, counts))\n",
    "    \n",
    "    for i in range(len(x)+1):\n",
    "        for j in range(len(y)+1):\n",
    "            if (i+1 in xdic.keys() and j+1 in ydic.keys()):\n",
    "                ones[j][i] = (xdic[i+1]/len(x)) * (ydic[i+1]/len(y))\n",
    "            else:\n",
    "                ones[j][i] = 0\n",
    "    df = pd.DataFrame(ones)\n",
    "    df['Marginal'] = df.sum(axis=1)\n",
    "    df = df.T\n",
    "    df['Marginal'] = df.sum(axis=1)\n",
    "    df = df.T\n",
    "    return df\n",
    "df = jointTable([1,1,2,3,4,5,7,7], [1,1,2,3,4,5,7,1])"
   ]
  },
  {
   "cell_type": "markdown",
   "metadata": {},
   "source": [
    "### Image Prep Functions"
   ]
  },
  {
   "cell_type": "code",
   "execution_count": 15,
   "metadata": {},
   "outputs": [],
   "source": [
    "def splitImage(img):\n",
    "    split_img = Image.Image.split(img)\n",
    "    return split_img[0], split_img[1], split_img[2]\n",
    "\n",
    "def cropImage(img):\n",
    "    r, g, b = splitImage(img)\n",
    "    w, h = img.size\n",
    "    top = r.crop((20, 0, w-20, h))\n",
    "    return top, [g.crop((40-x, 0, w-x, h)) for x in range(40, -1, -1)]"
   ]
  },
  {
   "cell_type": "markdown",
   "metadata": {},
   "source": [
    "### Entropy Function"
   ]
  },
  {
   "cell_type": "code",
   "execution_count": 16,
   "metadata": {},
   "outputs": [],
   "source": [
    "# This function makes use of scipys entropy function\n",
    "# Used as a benchmark\n",
    "def shannon_entropy(image, base=2):\n",
    "    _, counts = np.unique(image, return_counts=True)\n",
    "    return scipy_entropy(counts, base=base)\n",
    "\n",
    "def entropyCalc(X):\n",
    "    uniq = set(X)\n",
    "    P = [np.mean(X == x) for x in uniq]\n",
    "    return sum(-p * np.log2(p) for p in P)"
   ]
  },
  {
   "cell_type": "markdown",
   "metadata": {},
   "source": [
    "### Functions for getting plot values"
   ]
  },
  {
   "cell_type": "code",
   "execution_count": 17,
   "metadata": {},
   "outputs": [],
   "source": [
    "def mutualInfoCalc(img, num_bins):\n",
    "    top, bottoms = cropImage(img)\n",
    "    mis = []\n",
    "    for i in range(len(bottoms)):\n",
    "        hist = np.histogram2d(np.asarray(top).flatten(), np.asarray(bottoms[i]).flatten(), bins=num_bins)\n",
    "        hist_img = Image.fromarray(hist[0], 'RGB')\n",
    "        mis.append(entropyCalc(np.asarray(top).flatten()) + entropyCalc(np.asarray(bottoms[i]).flatten()) - entropyCalc(np.asarray(hist_img).flatten()))\n",
    "    return mis\n",
    "\n",
    "def binSizeChange(img):\n",
    "    top, bottoms = cropImage(img)\n",
    "    mis = []\n",
    "    for i in range(1, 256):\n",
    "        hist = np.histogram2d(np.asarray(top).flatten(), np.asarray(bottoms[20]).flatten(), bins=int(256/i))\n",
    "        hist_img = Image.fromarray(hist[0], 'RGB')\n",
    "        mis.append(entropyCalc(np.asarray(top).flatten()) + entropyCalc(np.asarray(bottoms[20]).flatten()) - entropyCalc(np.asarray(hist_img).flatten()))\n",
    "    return mis"
   ]
  },
  {
   "cell_type": "markdown",
   "metadata": {},
   "source": [
    "### Experiments"
   ]
  },
  {
   "cell_type": "code",
   "execution_count": 18,
   "metadata": {},
   "outputs": [],
   "source": [
    "flower = Image.open(\"../input/flower.png\")\n",
    "puffin = Image.open(\"../input/puffin.jpg\")"
   ]
  },
  {
   "cell_type": "markdown",
   "metadata": {},
   "source": [
    "#### Flower (256*256)"
   ]
  },
  {
   "cell_type": "code",
   "execution_count": null,
   "metadata": {
    "pycharm": {
     "is_executing": true
    }
   },
   "outputs": [],
   "source": [
    "fig = plt.figure()\n",
    "plt.ylabel('Mutual Information')\n",
    "plt.xlabel('Image Translations')\n",
    "sns.lineplot([x for x in range(41)], mutualInfoCalc(flower, 256))"
   ]
  },
  {
   "cell_type": "code",
   "execution_count": null,
   "metadata": {
    "pycharm": {
     "is_executing": true
    }
   },
   "outputs": [],
   "source": [
    "fig = plt.figure()\n",
    "plt.ylabel('Mutual Information')\n",
    "plt.xlabel('Number of Bins')\n",
    "sns.lineplot([x for x in range(255)], binSizeChange(flower))"
   ]
  },
  {
   "cell_type": "markdown",
   "metadata": {},
   "source": [
    "#### Puffin (800*800)"
   ]
  },
  {
   "cell_type": "code",
   "execution_count": null,
   "metadata": {
    "pycharm": {
     "is_executing": true
    }
   },
   "outputs": [],
   "source": [
    "fig = plt.figure()\n",
    "plt.ylabel('Mutual Information')\n",
    "plt.xlabel('Image Translations')\n",
    "sns.lineplot([x for x in range(41)], mutualInfoCalc(puffin, 256))"
   ]
  },
  {
   "cell_type": "code",
   "execution_count": null,
   "metadata": {
    "pycharm": {
     "is_executing": true
    }
   },
   "outputs": [],
   "source": [
    "fig = plt.figure()\n",
    "plt.ylabel('Mutual Information')\n",
    "plt.xlabel('Number of Bins')\n",
    "sns.lineplot([x for x in range(255)], binSizeChange(puffin))"
   ]
  },
  {
   "cell_type": "code",
   "execution_count": null,
   "metadata": {
    "pycharm": {
     "is_executing": true
    }
   },
   "outputs": [],
   "source": [
    "# hist = np.histogram2d(np.asarray(r).flatten(), np.asarray(g).flatten(), bins=256)\n",
    "# img = Image.fromarray(hist[0], 'RGB')\n",
    "# test = shannon_entropy(r) + shannon_entropy(g) - shannon_entropy(img)\n",
    "# test"
   ]
  },
  {
   "cell_type": "markdown",
   "metadata": {},
   "source": [
    "### Other Entropy Option"
   ]
  },
  {
   "cell_type": "code",
   "execution_count": null,
   "metadata": {
    "pycharm": {
     "is_executing": true
    }
   },
   "outputs": [],
   "source": [
    "def entropyDep(signal):\n",
    "    len_sig = signal.size\n",
    "    sym_set = list(set(signal))\n",
    "    num_sym = len(sym_set)\n",
    "    prob = [np.size(signal[signal==i])/(1.0*len_sig) for i in sym_set]\n",
    "    ent = np.sum([p * np.log2(1.0/p) for p in prob])\n",
    "    return ent\n",
    "\n",
    "def getEntropy(binsize, img):\n",
    "    N = binsize\n",
    "    S = g.shape\n",
    "    E = np.array(img)\n",
    "    for row in range(S[0]):\n",
    "        for col in range(S[1]):\n",
    "            Lx=np.max([0,col-N])\n",
    "            Ux=np.min([S[1],col+N])\n",
    "            Ly=np.max([0,row-N])\n",
    "            Uy=np.min([S[0],row+N])\n",
    "            region=g[Ly:Uy,Lx:Ux].flatten()\n",
    "            E[row,col]=entropyDep(region)\n",
    "    return E"
   ]
  },
  {
   "cell_type": "code",
   "execution_count": null,
   "metadata": {
    "pycharm": {
     "is_executing": true
    }
   },
   "outputs": [],
   "source": []
  }
 ],
 "metadata": {
  "kernelspec": {
   "display_name": "Python 3",
   "language": "python",
   "name": "python3"
  },
  "language_info": {
   "codemirror_mode": {
    "name": "ipython",
    "version": 3
   },
   "file_extension": ".py",
   "mimetype": "text/x-python",
   "name": "python",
   "nbconvert_exporter": "python",
   "pygments_lexer": "ipython3",
   "version": "3.7.6"
  }
 },
 "nbformat": 4,
 "nbformat_minor": 4
}