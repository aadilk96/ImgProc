{
 "cells": [
  {
   "cell_type": "code",
   "execution_count": 1,
   "metadata": {},
   "outputs": [],
   "source": [
    "import numpy as np\n",
    "from PIL import Image\n",
    "from collections import deque\n",
    "import matplotlib.pyplot as plt\n",
    "import imageio"
   ]
  },
  {
   "cell_type": "code",
   "execution_count": 2,
   "metadata": {},
   "outputs": [],
   "source": [
    "MASK = -2\n",
    "WSHD = 0\n",
    "INIT = -1\n",
    "INQUEUE = -3\n",
    "LVLS = 256"
   ]
  },
  {
   "cell_type": "code",
   "execution_count": 12,
   "metadata": {},
   "outputs": [],
   "source": [
    "#gets upto 8(+ 1) pixels coordinates for each pixel\n",
    "def get_neighbors(height, width, pixel):\n",
    "      return np.mgrid[\n",
    "          max(0, pixel[0] - 1):min(height, pixel[0] + 2),\n",
    "          max(0, pixel[1] - 1):min(width, pixel[1] + 2)\n",
    "      ].reshape(2, -1).T"
   ]
  },
  {
   "cell_type": "code",
   "execution_count": 13,
   "metadata": {},
   "outputs": [],
   "source": [
    "image = np.array(Image.open(\"../data/ex.png\"))"
   ]
  },
  {
   "cell_type": "code",
   "execution_count": 14,
   "metadata": {},
   "outputs": [],
   "source": [
    "height, width = image.shape\n",
    "total = height * width"
   ]
  },
  {
   "cell_type": "code",
   "execution_count": 15,
   "metadata": {},
   "outputs": [],
   "source": [
    "output_labels = np.full((height, width), INIT, np.int32)"
   ]
  },
  {
   "cell_type": "code",
   "execution_count": 16,
   "metadata": {},
   "outputs": [],
   "source": [
    "reshaped_image = image.reshape(total)"
   ]
  },
  {
   "cell_type": "code",
   "execution_count": 17,
   "metadata": {},
   "outputs": [
    {
     "data": {
      "text/plain": [
       "(298, 299)"
      ]
     },
     "execution_count": 17,
     "metadata": {},
     "output_type": "execute_result"
    }
   ],
   "source": [
    "output_labels.shape"
   ]
  },
  {
   "cell_type": "code",
   "execution_count": 18,
   "metadata": {},
   "outputs": [],
   "source": [
    "current_label = 0\n",
    "flag = False\n",
    "que = deque()"
   ]
  },
  {
   "cell_type": "code",
   "execution_count": 19,
   "metadata": {},
   "outputs": [],
   "source": [
    "# [y, x] pairs of pixel coordinates of flattened image\n",
    "pixels = np.mgrid[0:height, 0:width].reshape(2, -1).T"
   ]
  },
  {
   "cell_type": "code",
   "execution_count": 20,
   "metadata": {},
   "outputs": [
    {
     "data": {
      "text/plain": [
       "array([[0, 0],\n",
       "       [0, 1],\n",
       "       [1, 0],\n",
       "       [1, 1]])"
      ]
     },
     "execution_count": 20,
     "metadata": {},
     "output_type": "execute_result"
    }
   ],
   "source": [
    "get_neighbors(10, 11, pixels[0])"
   ]
  },
  {
   "cell_type": "code",
   "execution_count": 21,
   "metadata": {},
   "outputs": [],
   "source": [
    "# getting neighbours for each of our pixels\n",
    "neighbours = np.array([get_neighbors(height, width, p) for p in pixels])"
   ]
  },
  {
   "cell_type": "code",
   "execution_count": 24,
   "metadata": {},
   "outputs": [],
   "source": [
    "if len(neighbours.shape) == 3:\n",
    "    # Case where all pixels have the same number of neighbours.\n",
    "    neighbours = neighbours.reshape(height, width, -1, -2) #reducing dimensionality & reshaping to image shape\n",
    "else:\n",
    "    # Case where pixels may have a different number of neighbours.\n",
    "    neighbours = neighbours.reshape(height, width) #reshaping to image shape"
   ]
  },
  {
   "cell_type": "code",
   "execution_count": 25,
   "metadata": {},
   "outputs": [],
   "source": [
    "# Getting sorted index values\n",
    "indices = np.argsort(reshaped_image)\n",
    "# Sorting image ascending\n",
    "sorted_image = reshaped_image[indices]\n",
    "# Sorting pixels ascending\n",
    "sorted_pixels = pixels[indices]"
   ]
  },
  {
   "cell_type": "code",
   "execution_count": 26,
   "metadata": {},
   "outputs": [
    {
     "data": {
      "text/plain": [
       "array([  9,   9,   9, ..., 233, 233, 233], dtype=uint8)"
      ]
     },
     "execution_count": 26,
     "metadata": {},
     "output_type": "execute_result"
    }
   ],
   "source": [
    "sorted_image"
   ]
  },
  {
   "cell_type": "code",
   "execution_count": 27,
   "metadata": {},
   "outputs": [
    {
     "data": {
      "text/plain": [
       "array([163, 197])"
      ]
     },
     "execution_count": 27,
     "metadata": {},
     "output_type": "execute_result"
    }
   ],
   "source": [
    "sorted_pixels[0]"
   ]
  },
  {
   "cell_type": "code",
   "execution_count": 28,
   "metadata": {},
   "outputs": [
    {
     "data": {
      "text/plain": [
       "array([0, 0])"
      ]
     },
     "execution_count": 28,
     "metadata": {},
     "output_type": "execute_result"
    }
   ],
   "source": [
    "pixels[0]"
   ]
  },
  {
   "cell_type": "code",
   "execution_count": 89,
   "metadata": {},
   "outputs": [],
   "source": [
    "# Creating 256 levels for the range of the image\n",
    "levels = np.linspace(sorted_image[0], sorted_image[-1], LVLS)\n",
    "level_indices = []\n",
    "current_level = 0\n",
    "# Get the indices that deleimit pixels with different values.\n",
    "for i in range(total):\n",
    "    if sorted_image[i] > levels[current_level]:\n",
    "        # Skip levels until the next highest one is reached.\n",
    "        while sorted_image[i] > levels[current_level]: current_level += 1\n",
    "        level_indices.append(i)\n",
    "level_indices.append(total)"
   ]
  },
  {
   "cell_type": "code",
   "execution_count": 90,
   "metadata": {},
   "outputs": [],
   "source": [
    "level_test = np.array(level_indices)"
   ]
  },
  {
   "cell_type": "code",
   "execution_count": 91,
   "metadata": {},
   "outputs": [
    {
     "data": {
      "text/plain": [
       "array([   16,    81,   121,   209,   313, 62406, 62422, 62576, 64789,\n",
       "       65622, 65638, 67010, 67090, 67106, 67892, 67904, 68066, 68111,\n",
       "       68203, 68983, 68995, 69851, 70365, 70377, 70398, 70407, 70692,\n",
       "       70708, 71411, 71551, 71595, 72376, 72420, 72914, 72958, 73146,\n",
       "       73251, 73975, 74023, 74215, 74347, 75694, 75762, 75890, 75934,\n",
       "       76416, 76444, 77006, 77191, 77718, 77810, 78444, 78556, 78746,\n",
       "       78787, 78879, 79577, 79998, 80448, 80617, 80926, 80972, 81436,\n",
       "       81990, 82066, 82419, 83088, 84021, 84097, 84407, 84679, 85634,\n",
       "       85764, 86229, 86934, 87292, 88121, 88302, 88754, 89102])"
      ]
     },
     "execution_count": 91,
     "metadata": {},
     "output_type": "execute_result"
    }
   ],
   "source": [
    "np.unique(level_test)"
   ]
  },
  {
   "cell_type": "code",
   "execution_count": 95,
   "metadata": {},
   "outputs": [
    {
     "ename": "KeyboardInterrupt",
     "evalue": "",
     "output_type": "error",
     "traceback": [
      "\u001b[0;31m---------------------------------------------------------------------------\u001b[0m",
      "\u001b[0;31mKeyboardInterrupt\u001b[0m                         Traceback (most recent call last)",
      "\u001b[0;32m<ipython-input-95-af77db09257e>\u001b[0m in \u001b[0;36m<module>\u001b[0;34m\u001b[0m\n\u001b[1;32m      4\u001b[0m         \u001b[0moutput_labels\u001b[0m\u001b[0;34m[\u001b[0m\u001b[0mp\u001b[0m\u001b[0;34m[\u001b[0m\u001b[0;36m0\u001b[0m\u001b[0;34m]\u001b[0m\u001b[0;34m,\u001b[0m \u001b[0mp\u001b[0m\u001b[0;34m[\u001b[0m\u001b[0;36m1\u001b[0m\u001b[0;34m]\u001b[0m\u001b[0;34m]\u001b[0m \u001b[0;34m=\u001b[0m \u001b[0mMASK\u001b[0m\u001b[0;34m\u001b[0m\u001b[0;34m\u001b[0m\u001b[0m\n\u001b[1;32m      5\u001b[0m         \u001b[0;32mfor\u001b[0m \u001b[0mq\u001b[0m \u001b[0;32min\u001b[0m \u001b[0mneighbours\u001b[0m\u001b[0;34m[\u001b[0m\u001b[0mp\u001b[0m\u001b[0;34m[\u001b[0m\u001b[0;36m0\u001b[0m\u001b[0;34m]\u001b[0m\u001b[0;34m,\u001b[0m \u001b[0mp\u001b[0m\u001b[0;34m[\u001b[0m\u001b[0;36m1\u001b[0m\u001b[0;34m]\u001b[0m\u001b[0;34m]\u001b[0m\u001b[0;34m:\u001b[0m\u001b[0;34m\u001b[0m\u001b[0;34m\u001b[0m\u001b[0m\n\u001b[0;32m----> 6\u001b[0;31m             \u001b[0;32mif\u001b[0m \u001b[0moutput_labels\u001b[0m\u001b[0;34m[\u001b[0m\u001b[0mq\u001b[0m\u001b[0;34m[\u001b[0m\u001b[0;36m0\u001b[0m\u001b[0;34m]\u001b[0m\u001b[0;34m,\u001b[0m \u001b[0mq\u001b[0m\u001b[0;34m[\u001b[0m\u001b[0;36m1\u001b[0m\u001b[0;34m]\u001b[0m\u001b[0;34m]\u001b[0m \u001b[0;34m>=\u001b[0m \u001b[0mWSHD\u001b[0m\u001b[0;34m:\u001b[0m\u001b[0;34m\u001b[0m\u001b[0;34m\u001b[0m\u001b[0m\n\u001b[0m\u001b[1;32m      7\u001b[0m                 \u001b[0moutput_labels\u001b[0m\u001b[0;34m[\u001b[0m\u001b[0mp\u001b[0m\u001b[0;34m[\u001b[0m\u001b[0;36m0\u001b[0m\u001b[0;34m]\u001b[0m\u001b[0;34m,\u001b[0m\u001b[0mp\u001b[0m\u001b[0;34m[\u001b[0m\u001b[0;36m1\u001b[0m\u001b[0;34m]\u001b[0m\u001b[0;34m]\u001b[0m \u001b[0;34m=\u001b[0m \u001b[0mINQUEUE\u001b[0m\u001b[0;34m\u001b[0m\u001b[0;34m\u001b[0m\u001b[0m\n\u001b[1;32m      8\u001b[0m                 \u001b[0mque\u001b[0m\u001b[0;34m.\u001b[0m\u001b[0mappend\u001b[0m\u001b[0;34m(\u001b[0m\u001b[0mp\u001b[0m\u001b[0;34m)\u001b[0m\u001b[0;34m\u001b[0m\u001b[0;34m\u001b[0m\u001b[0m\n",
      "\u001b[0;31mKeyboardInterrupt\u001b[0m: "
     ]
    }
   ],
   "source": [
    "start_index = 0\n",
    "for stop_index in level_indices:\n",
    "    for p in sorted_pixels[start_index:stop_index]:\n",
    "        output_labels[p[0], p[1]] = MASK\n",
    "        for q in neighbours[p[0], p[1]]:\n",
    "            if output_labels[q[0], q[1]] >= WSHD:\n",
    "                output_labels[p[0],p[1]] = INQUEUE\n",
    "                que.append(p)\n",
    "                break"
   ]
  },
  {
   "cell_type": "code",
   "execution_count": 94,
   "metadata": {},
   "outputs": [
    {
     "data": {
      "text/plain": [
       "[16,\n",
       " 81,\n",
       " 121,\n",
       " 209,\n",
       " 313,\n",
       " 62406,\n",
       " 62422,\n",
       " 62576,\n",
       " 64789,\n",
       " 65622,\n",
       " 65638,\n",
       " 67010,\n",
       " 67090,\n",
       " 67106,\n",
       " 67892,\n",
       " 67904,\n",
       " 68066,\n",
       " 68111,\n",
       " 68203,\n",
       " 68983,\n",
       " 68995,\n",
       " 69851,\n",
       " 70365,\n",
       " 70377,\n",
       " 70398,\n",
       " 70407,\n",
       " 70692,\n",
       " 70708,\n",
       " 71411,\n",
       " 71551,\n",
       " 71595,\n",
       " 72376,\n",
       " 72420,\n",
       " 72914,\n",
       " 72958,\n",
       " 73146,\n",
       " 73251,\n",
       " 73975,\n",
       " 74023,\n",
       " 74215,\n",
       " 74347,\n",
       " 75694,\n",
       " 75762,\n",
       " 75890,\n",
       " 75934,\n",
       " 76416,\n",
       " 76444,\n",
       " 77006,\n",
       " 77191,\n",
       " 77718,\n",
       " 77810,\n",
       " 78444,\n",
       " 78556,\n",
       " 78746,\n",
       " 78787,\n",
       " 78879,\n",
       " 79577,\n",
       " 79998,\n",
       " 80448,\n",
       " 80617,\n",
       " 80926,\n",
       " 80972,\n",
       " 81436,\n",
       " 81990,\n",
       " 82066,\n",
       " 82419,\n",
       " 83088,\n",
       " 84021,\n",
       " 84097,\n",
       " 84407,\n",
       " 84679,\n",
       " 85634,\n",
       " 85764,\n",
       " 86229,\n",
       " 86934,\n",
       " 87292,\n",
       " 88121,\n",
       " 88302,\n",
       " 88754,\n",
       " 89102]"
      ]
     },
     "execution_count": 94,
     "metadata": {},
     "output_type": "execute_result"
    }
   ],
   "source": [
    "level_indices"
   ]
  },
  {
   "cell_type": "code",
   "execution_count": null,
   "metadata": {},
   "outputs": [],
   "source": []
  }
 ],
 "metadata": {
  "kernelspec": {
   "display_name": "Python 3",
   "language": "python",
   "name": "python3"
  },
  "language_info": {
   "codemirror_mode": {
    "name": "ipython",
    "version": 3
   },
   "file_extension": ".py",
   "mimetype": "text/x-python",
   "name": "python",
   "nbconvert_exporter": "python",
   "pygments_lexer": "ipython3",
   "version": "3.7.6"
  }
 },
 "nbformat": 4,
 "nbformat_minor": 4
}
